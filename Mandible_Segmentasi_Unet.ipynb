{
  "cells": [
    {
      "cell_type": "markdown",
      "metadata": {
        "id": "view-in-github",
        "colab_type": "text"
      },
      "source": [
        "<a href=\"https://colab.research.google.com/github/maulanawirawan/Mandible-Segmentation/blob/main/Mandible_Segmentasi_Unet.ipynb\" target=\"_parent\"><img src=\"https://colab.research.google.com/assets/colab-badge.svg\" alt=\"Open In Colab\"/></a>"
      ]
    },
    {
      "cell_type": "code",
      "execution_count": null,
      "metadata": {
        "colab": {
          "base_uri": "https://localhost:8080/"
        },
        "id": "gAslwMXfisJ0",
        "outputId": "3d375644-975d-4c3b-c5e6-26f18839d4b6"
      },
      "outputs": [
        {
          "output_type": "stream",
          "name": "stdout",
          "text": [
            "Collecting einops\n",
            "  Downloading einops-0.7.0-py3-none-any.whl (44 kB)\n",
            "\u001b[2K     \u001b[90m━━━━━━━━━━━━━━━━━━━━━━━━━━━━━━━━━━━━━━━━\u001b[0m \u001b[32m44.6/44.6 kB\u001b[0m \u001b[31m540.9 kB/s\u001b[0m eta \u001b[36m0:00:00\u001b[0m\n",
            "\u001b[?25hInstalling collected packages: einops\n",
            "Successfully installed einops-0.7.0\n",
            "Requirement already satisfied: matplotlib in /usr/local/lib/python3.10/dist-packages (3.7.1)\n",
            "Requirement already satisfied: contourpy>=1.0.1 in /usr/local/lib/python3.10/dist-packages (from matplotlib) (1.2.0)\n",
            "Requirement already satisfied: cycler>=0.10 in /usr/local/lib/python3.10/dist-packages (from matplotlib) (0.12.1)\n",
            "Requirement already satisfied: fonttools>=4.22.0 in /usr/local/lib/python3.10/dist-packages (from matplotlib) (4.47.0)\n",
            "Requirement already satisfied: kiwisolver>=1.0.1 in /usr/local/lib/python3.10/dist-packages (from matplotlib) (1.4.5)\n",
            "Requirement already satisfied: numpy>=1.20 in /usr/local/lib/python3.10/dist-packages (from matplotlib) (1.23.5)\n",
            "Requirement already satisfied: packaging>=20.0 in /usr/local/lib/python3.10/dist-packages (from matplotlib) (23.2)\n",
            "Requirement already satisfied: pillow>=6.2.0 in /usr/local/lib/python3.10/dist-packages (from matplotlib) (9.4.0)\n",
            "Requirement already satisfied: pyparsing>=2.3.1 in /usr/local/lib/python3.10/dist-packages (from matplotlib) (3.1.1)\n",
            "Requirement already satisfied: python-dateutil>=2.7 in /usr/local/lib/python3.10/dist-packages (from matplotlib) (2.8.2)\n",
            "Requirement already satisfied: six>=1.5 in /usr/local/lib/python3.10/dist-packages (from python-dateutil>=2.7->matplotlib) (1.16.0)\n",
            "Requirement already satisfied: numpy in /usr/local/lib/python3.10/dist-packages (1.23.5)\n",
            "Requirement already satisfied: opencv-python in /usr/local/lib/python3.10/dist-packages (4.8.0.76)\n",
            "Requirement already satisfied: numpy>=1.21.2 in /usr/local/lib/python3.10/dist-packages (from opencv-python) (1.23.5)\n",
            "Requirement already satisfied: torch in /usr/local/lib/python3.10/dist-packages (2.1.0+cu121)\n",
            "Requirement already satisfied: filelock in /usr/local/lib/python3.10/dist-packages (from torch) (3.13.1)\n",
            "Requirement already satisfied: typing-extensions in /usr/local/lib/python3.10/dist-packages (from torch) (4.5.0)\n",
            "Requirement already satisfied: sympy in /usr/local/lib/python3.10/dist-packages (from torch) (1.12)\n",
            "Requirement already satisfied: networkx in /usr/local/lib/python3.10/dist-packages (from torch) (3.2.1)\n",
            "Requirement already satisfied: jinja2 in /usr/local/lib/python3.10/dist-packages (from torch) (3.1.2)\n",
            "Requirement already satisfied: fsspec in /usr/local/lib/python3.10/dist-packages (from torch) (2023.6.0)\n",
            "Requirement already satisfied: triton==2.1.0 in /usr/local/lib/python3.10/dist-packages (from torch) (2.1.0)\n",
            "Requirement already satisfied: MarkupSafe>=2.0 in /usr/local/lib/python3.10/dist-packages (from jinja2->torch) (2.1.3)\n",
            "Requirement already satisfied: mpmath>=0.19 in /usr/local/lib/python3.10/dist-packages (from sympy->torch) (1.3.0)\n",
            "Requirement already satisfied: torchvision in /usr/local/lib/python3.10/dist-packages (0.16.0+cu121)\n",
            "Requirement already satisfied: numpy in /usr/local/lib/python3.10/dist-packages (from torchvision) (1.23.5)\n",
            "Requirement already satisfied: requests in /usr/local/lib/python3.10/dist-packages (from torchvision) (2.31.0)\n",
            "Requirement already satisfied: torch==2.1.0 in /usr/local/lib/python3.10/dist-packages (from torchvision) (2.1.0+cu121)\n",
            "Requirement already satisfied: pillow!=8.3.*,>=5.3.0 in /usr/local/lib/python3.10/dist-packages (from torchvision) (9.4.0)\n",
            "Requirement already satisfied: filelock in /usr/local/lib/python3.10/dist-packages (from torch==2.1.0->torchvision) (3.13.1)\n",
            "Requirement already satisfied: typing-extensions in /usr/local/lib/python3.10/dist-packages (from torch==2.1.0->torchvision) (4.5.0)\n",
            "Requirement already satisfied: sympy in /usr/local/lib/python3.10/dist-packages (from torch==2.1.0->torchvision) (1.12)\n",
            "Requirement already satisfied: networkx in /usr/local/lib/python3.10/dist-packages (from torch==2.1.0->torchvision) (3.2.1)\n",
            "Requirement already satisfied: jinja2 in /usr/local/lib/python3.10/dist-packages (from torch==2.1.0->torchvision) (3.1.2)\n",
            "Requirement already satisfied: fsspec in /usr/local/lib/python3.10/dist-packages (from torch==2.1.0->torchvision) (2023.6.0)\n",
            "Requirement already satisfied: triton==2.1.0 in /usr/local/lib/python3.10/dist-packages (from torch==2.1.0->torchvision) (2.1.0)\n",
            "Requirement already satisfied: charset-normalizer<4,>=2 in /usr/local/lib/python3.10/dist-packages (from requests->torchvision) (3.3.2)\n",
            "Requirement already satisfied: idna<4,>=2.5 in /usr/local/lib/python3.10/dist-packages (from requests->torchvision) (3.6)\n",
            "Requirement already satisfied: urllib3<3,>=1.21.1 in /usr/local/lib/python3.10/dist-packages (from requests->torchvision) (2.0.7)\n",
            "Requirement already satisfied: certifi>=2017.4.17 in /usr/local/lib/python3.10/dist-packages (from requests->torchvision) (2023.11.17)\n",
            "Requirement already satisfied: MarkupSafe>=2.0 in /usr/local/lib/python3.10/dist-packages (from jinja2->torch==2.1.0->torchvision) (2.1.3)\n",
            "Requirement already satisfied: mpmath>=0.19 in /usr/local/lib/python3.10/dist-packages (from sympy->torch==2.1.0->torchvision) (1.3.0)\n",
            "Requirement already satisfied: tqdm in /usr/local/lib/python3.10/dist-packages (4.66.1)\n",
            "Collecting segmentation-models-pytorch\n",
            "  Downloading segmentation_models_pytorch-0.3.3-py3-none-any.whl (106 kB)\n",
            "\u001b[2K     \u001b[90m━━━━━━━━━━━━━━━━━━━━━━━━━━━━━━━━━━━━━━━━\u001b[0m \u001b[32m106.7/106.7 kB\u001b[0m \u001b[31m1.3 MB/s\u001b[0m eta \u001b[36m0:00:00\u001b[0m\n",
            "\u001b[?25hRequirement already satisfied: torchvision>=0.5.0 in /usr/local/lib/python3.10/dist-packages (from segmentation-models-pytorch) (0.16.0+cu121)\n",
            "Collecting pretrainedmodels==0.7.4 (from segmentation-models-pytorch)\n",
            "  Downloading pretrainedmodels-0.7.4.tar.gz (58 kB)\n",
            "\u001b[2K     \u001b[90m━━━━━━━━━━━━━━━━━━━━━━━━━━━━━━━━━━━━━━━━\u001b[0m \u001b[32m58.8/58.8 kB\u001b[0m \u001b[31m4.6 MB/s\u001b[0m eta \u001b[36m0:00:00\u001b[0m\n",
            "\u001b[?25h  Preparing metadata (setup.py) ... \u001b[?25l\u001b[?25hdone\n",
            "Collecting efficientnet-pytorch==0.7.1 (from segmentation-models-pytorch)\n",
            "  Downloading efficientnet_pytorch-0.7.1.tar.gz (21 kB)\n",
            "  Preparing metadata (setup.py) ... \u001b[?25l\u001b[?25hdone\n",
            "Collecting timm==0.9.2 (from segmentation-models-pytorch)\n",
            "  Downloading timm-0.9.2-py3-none-any.whl (2.2 MB)\n",
            "\u001b[2K     \u001b[90m━━━━━━━━━━━━━━━━━━━━━━━━━━━━━━━━━━━━━━━━\u001b[0m \u001b[32m2.2/2.2 MB\u001b[0m \u001b[31m13.6 MB/s\u001b[0m eta \u001b[36m0:00:00\u001b[0m\n",
            "\u001b[?25hRequirement already satisfied: tqdm in /usr/local/lib/python3.10/dist-packages (from segmentation-models-pytorch) (4.66.1)\n",
            "Requirement already satisfied: pillow in /usr/local/lib/python3.10/dist-packages (from segmentation-models-pytorch) (9.4.0)\n",
            "Requirement already satisfied: torch in /usr/local/lib/python3.10/dist-packages (from efficientnet-pytorch==0.7.1->segmentation-models-pytorch) (2.1.0+cu121)\n",
            "Collecting munch (from pretrainedmodels==0.7.4->segmentation-models-pytorch)\n",
            "  Downloading munch-4.0.0-py2.py3-none-any.whl (9.9 kB)\n",
            "Requirement already satisfied: pyyaml in /usr/local/lib/python3.10/dist-packages (from timm==0.9.2->segmentation-models-pytorch) (6.0.1)\n",
            "Requirement already satisfied: huggingface-hub in /usr/local/lib/python3.10/dist-packages (from timm==0.9.2->segmentation-models-pytorch) (0.20.2)\n",
            "Requirement already satisfied: safetensors in /usr/local/lib/python3.10/dist-packages (from timm==0.9.2->segmentation-models-pytorch) (0.4.1)\n",
            "Requirement already satisfied: numpy in /usr/local/lib/python3.10/dist-packages (from torchvision>=0.5.0->segmentation-models-pytorch) (1.23.5)\n",
            "Requirement already satisfied: requests in /usr/local/lib/python3.10/dist-packages (from torchvision>=0.5.0->segmentation-models-pytorch) (2.31.0)\n",
            "Requirement already satisfied: filelock in /usr/local/lib/python3.10/dist-packages (from torch->efficientnet-pytorch==0.7.1->segmentation-models-pytorch) (3.13.1)\n",
            "Requirement already satisfied: typing-extensions in /usr/local/lib/python3.10/dist-packages (from torch->efficientnet-pytorch==0.7.1->segmentation-models-pytorch) (4.5.0)\n",
            "Requirement already satisfied: sympy in /usr/local/lib/python3.10/dist-packages (from torch->efficientnet-pytorch==0.7.1->segmentation-models-pytorch) (1.12)\n",
            "Requirement already satisfied: networkx in /usr/local/lib/python3.10/dist-packages (from torch->efficientnet-pytorch==0.7.1->segmentation-models-pytorch) (3.2.1)\n",
            "Requirement already satisfied: jinja2 in /usr/local/lib/python3.10/dist-packages (from torch->efficientnet-pytorch==0.7.1->segmentation-models-pytorch) (3.1.2)\n",
            "Requirement already satisfied: fsspec in /usr/local/lib/python3.10/dist-packages (from torch->efficientnet-pytorch==0.7.1->segmentation-models-pytorch) (2023.6.0)\n",
            "Requirement already satisfied: triton==2.1.0 in /usr/local/lib/python3.10/dist-packages (from torch->efficientnet-pytorch==0.7.1->segmentation-models-pytorch) (2.1.0)\n",
            "Requirement already satisfied: packaging>=20.9 in /usr/local/lib/python3.10/dist-packages (from huggingface-hub->timm==0.9.2->segmentation-models-pytorch) (23.2)\n",
            "Requirement already satisfied: charset-normalizer<4,>=2 in /usr/local/lib/python3.10/dist-packages (from requests->torchvision>=0.5.0->segmentation-models-pytorch) (3.3.2)\n",
            "Requirement already satisfied: idna<4,>=2.5 in /usr/local/lib/python3.10/dist-packages (from requests->torchvision>=0.5.0->segmentation-models-pytorch) (3.6)\n",
            "Requirement already satisfied: urllib3<3,>=1.21.1 in /usr/local/lib/python3.10/dist-packages (from requests->torchvision>=0.5.0->segmentation-models-pytorch) (2.0.7)\n",
            "Requirement already satisfied: certifi>=2017.4.17 in /usr/local/lib/python3.10/dist-packages (from requests->torchvision>=0.5.0->segmentation-models-pytorch) (2023.11.17)\n",
            "Requirement already satisfied: MarkupSafe>=2.0 in /usr/local/lib/python3.10/dist-packages (from jinja2->torch->efficientnet-pytorch==0.7.1->segmentation-models-pytorch) (2.1.3)\n",
            "Requirement already satisfied: mpmath>=0.19 in /usr/local/lib/python3.10/dist-packages (from sympy->torch->efficientnet-pytorch==0.7.1->segmentation-models-pytorch) (1.3.0)\n",
            "Building wheels for collected packages: efficientnet-pytorch, pretrainedmodels\n",
            "  Building wheel for efficientnet-pytorch (setup.py) ... \u001b[?25l\u001b[?25hdone\n",
            "  Created wheel for efficientnet-pytorch: filename=efficientnet_pytorch-0.7.1-py3-none-any.whl size=16428 sha256=16bbb841207a136bba40206eeea224af9f354e78bcb275eda86449c4c381320a\n",
            "  Stored in directory: /root/.cache/pip/wheels/03/3f/e9/911b1bc46869644912bda90a56bcf7b960f20b5187feea3baf\n",
            "  Building wheel for pretrainedmodels (setup.py) ... \u001b[?25l\u001b[?25hdone\n",
            "  Created wheel for pretrainedmodels: filename=pretrainedmodels-0.7.4-py3-none-any.whl size=60945 sha256=55a9883fe19ae37d2fe7611a1696f34d4b5d8bf67a54b4bc54d5c571272ab70f\n",
            "  Stored in directory: /root/.cache/pip/wheels/35/cb/a5/8f534c60142835bfc889f9a482e4a67e0b817032d9c6883b64\n",
            "Successfully built efficientnet-pytorch pretrainedmodels\n",
            "Installing collected packages: munch, efficientnet-pytorch, timm, pretrainedmodels, segmentation-models-pytorch\n",
            "Successfully installed efficientnet-pytorch-0.7.1 munch-4.0.0 pretrainedmodels-0.7.4 segmentation-models-pytorch-0.3.3 timm-0.9.2\n"
          ]
        }
      ],
      "source": [
        "!pip install einops\n",
        "!pip install matplotlib\n",
        "!pip install numpy\n",
        "!pip install opencv-python\n",
        "!pip install torch\n",
        "!pip install torchvision\n",
        "!pip install tqdm\n",
        "!pip install segmentation-models-pytorch\n"
      ]
    },
    {
      "cell_type": "code",
      "execution_count": null,
      "metadata": {
        "colab": {
          "base_uri": "https://localhost:8080/"
        },
        "id": "GaJGRbKfjvhO",
        "outputId": "6a6180d1-f17b-408f-bc43-f7e1472aa74c"
      },
      "outputs": [
        {
          "output_type": "stream",
          "name": "stdout",
          "text": [
            "Mounted at /content/drive\n"
          ]
        }
      ],
      "source": [
        "# Mengaitkan dan mengakses Google Drive ke dalam lingkungan kerja Colab.\n",
        "from google.colab import drive\n",
        "drive.mount('/content/drive')"
      ]
    },
    {
      "cell_type": "code",
      "execution_count": null,
      "metadata": {
        "colab": {
          "base_uri": "https://localhost:8080/"
        },
        "id": "PtSWWsjqjveL",
        "outputId": "6f1b5309-90b1-422f-fa04-e1b272f1d64b"
      },
      "outputs": [
        {
          "output_type": "stream",
          "name": "stdout",
          "text": [
            "Archive:  /content/drive/MyDrive/ProjectMandible/DentalPanoramicXrays.zip\n",
            "   creating: Segmentation2/\n",
            "  inflating: Segmentation2/1.png     \n",
            "  inflating: Segmentation2/10.png    \n",
            "  inflating: Segmentation2/100.png   \n",
            "  inflating: Segmentation2/101.png   \n",
            "  inflating: Segmentation2/102.png   \n",
            "  inflating: Segmentation2/103.png   \n",
            "  inflating: Segmentation2/104.png   \n",
            "  inflating: Segmentation2/105.png   \n",
            "  inflating: Segmentation2/106.png   \n",
            "  inflating: Segmentation2/107.png   \n",
            "  inflating: Segmentation2/108.png   \n",
            "  inflating: Segmentation2/109.png   \n",
            "  inflating: Segmentation2/11.png    \n",
            "  inflating: Segmentation2/110.png   \n",
            "  inflating: Segmentation2/111.png   \n",
            "  inflating: Segmentation2/112.png   \n",
            "  inflating: Segmentation2/113.png   \n",
            "  inflating: Segmentation2/114.png   \n",
            "  inflating: Segmentation2/115.png   \n",
            "  inflating: Segmentation2/116.png   \n",
            "  inflating: Segmentation2/12.png    \n",
            "  inflating: Segmentation2/13.png    \n",
            "  inflating: Segmentation2/14.png    \n",
            "  inflating: Segmentation2/15.png    \n",
            "  inflating: Segmentation2/16.png    \n",
            "  inflating: Segmentation2/17.png    \n",
            "  inflating: Segmentation2/18.png    \n",
            "  inflating: Segmentation2/19.png    \n",
            "  inflating: Segmentation2/2.png     \n",
            "  inflating: Segmentation2/20.png    \n",
            "  inflating: Segmentation2/21.png    \n",
            "  inflating: Segmentation2/22.png    \n",
            "  inflating: Segmentation2/23.png    \n",
            "  inflating: Segmentation2/24.png    \n",
            "  inflating: Segmentation2/25.png    \n",
            "  inflating: Segmentation2/26.png    \n",
            "  inflating: Segmentation2/27.png    \n",
            "  inflating: Segmentation2/28.png    \n",
            "  inflating: Segmentation2/29.png    \n",
            "  inflating: Segmentation2/3.png     \n",
            "  inflating: Segmentation2/30.png    \n",
            "  inflating: Segmentation2/31.png    \n",
            "  inflating: Segmentation2/32.png    \n",
            "  inflating: Segmentation2/33.png    \n",
            "  inflating: Segmentation2/34.png    \n",
            "  inflating: Segmentation2/35.png    \n",
            "  inflating: Segmentation2/36.png    \n",
            "  inflating: Segmentation2/37.png    \n",
            "  inflating: Segmentation2/38.png    \n",
            "  inflating: Segmentation2/39.png    \n",
            "  inflating: Segmentation2/4.png     \n",
            "  inflating: Segmentation2/40.png    \n",
            "  inflating: Segmentation2/41.png    \n",
            "  inflating: Segmentation2/42.png    \n",
            "  inflating: Segmentation2/43.png    \n",
            "  inflating: Segmentation2/44.png    \n",
            "  inflating: Segmentation2/45.png    \n",
            "  inflating: Segmentation2/46.png    \n",
            "  inflating: Segmentation2/47.png    \n",
            "  inflating: Segmentation2/48.png    \n",
            "  inflating: Segmentation2/49.png    \n",
            "  inflating: Segmentation2/5.png     \n",
            "  inflating: Segmentation2/50.png    \n",
            "  inflating: Segmentation2/51.png    \n",
            "  inflating: Segmentation2/52.png    \n",
            "  inflating: Segmentation2/53.png    \n",
            "  inflating: Segmentation2/54.png    \n",
            "  inflating: Segmentation2/55.png    \n",
            "  inflating: Segmentation2/56.png    \n",
            "  inflating: Segmentation2/57.png    \n",
            "  inflating: Segmentation2/58.png    \n",
            "  inflating: Segmentation2/59.png    \n",
            "  inflating: Segmentation2/6.png     \n",
            "  inflating: Segmentation2/60.png    \n",
            "  inflating: Segmentation2/61.png    \n",
            "  inflating: Segmentation2/62.png    \n",
            "  inflating: Segmentation2/63.png    \n",
            "  inflating: Segmentation2/64.png    \n",
            "  inflating: Segmentation2/65.png    \n",
            "  inflating: Segmentation2/66.png    \n",
            "  inflating: Segmentation2/67.png    \n",
            "  inflating: Segmentation2/68.png    \n",
            "  inflating: Segmentation2/69.png    \n",
            "  inflating: Segmentation2/7.png     \n",
            "  inflating: Segmentation2/70.png    \n",
            "  inflating: Segmentation2/71.png    \n",
            "  inflating: Segmentation2/72.png    \n",
            "  inflating: Segmentation2/73.png    \n",
            "  inflating: Segmentation2/74.png    \n",
            "  inflating: Segmentation2/75.png    \n",
            "  inflating: Segmentation2/76.png    \n",
            "  inflating: Segmentation2/77.png    \n",
            "  inflating: Segmentation2/78.png    \n",
            "  inflating: Segmentation2/79.png    \n",
            "  inflating: Segmentation2/8.png     \n",
            "  inflating: Segmentation2/80.png    \n",
            "  inflating: Segmentation2/81.png    \n",
            "  inflating: Segmentation2/82.png    \n",
            "  inflating: Segmentation2/83.png    \n",
            "  inflating: Segmentation2/84.png    \n",
            "  inflating: Segmentation2/85.png    \n",
            "  inflating: Segmentation2/86.png    \n",
            "  inflating: Segmentation2/87.png    \n",
            "  inflating: Segmentation2/88.png    \n",
            "  inflating: Segmentation2/89.png    \n",
            "  inflating: Segmentation2/9.png     \n",
            "  inflating: Segmentation2/90.png    \n",
            "  inflating: Segmentation2/91.png    \n",
            "  inflating: Segmentation2/92.png    \n",
            "  inflating: Segmentation2/93.png    \n",
            "  inflating: Segmentation2/94.png    \n",
            "  inflating: Segmentation2/95.png    \n",
            "  inflating: Segmentation2/96.png    \n",
            "  inflating: Segmentation2/97.png    \n",
            "  inflating: Segmentation2/98.png    \n",
            "  inflating: Segmentation2/99.png    \n",
            "   creating: Images/\n",
            "  inflating: Images/1.png            \n",
            "  inflating: Images/10.png           \n",
            "  inflating: Images/100.png          \n",
            "  inflating: Images/101.png          \n",
            "  inflating: Images/102.png          \n",
            "  inflating: Images/103.png          \n",
            "  inflating: Images/104.png          \n",
            "  inflating: Images/105.png          \n",
            "  inflating: Images/106.png          \n",
            "  inflating: Images/107.png          \n",
            "  inflating: Images/108.png          \n",
            "  inflating: Images/109.png          \n",
            "  inflating: Images/11.png           \n",
            "  inflating: Images/110.png          \n",
            "  inflating: Images/111.png          \n",
            "  inflating: Images/112.png          \n",
            "  inflating: Images/113.png          \n",
            "  inflating: Images/114.png          \n",
            "  inflating: Images/115.png          \n",
            "  inflating: Images/116.png          \n",
            "  inflating: Images/12.png           \n",
            "  inflating: Images/13.png           \n",
            "  inflating: Images/14.png           \n",
            "  inflating: Images/15.png           \n",
            "  inflating: Images/16.png           \n",
            "  inflating: Images/17.png           \n",
            "  inflating: Images/18.png           \n",
            "  inflating: Images/19.png           \n",
            "  inflating: Images/2.png            \n",
            "  inflating: Images/20.png           \n",
            "  inflating: Images/21.png           \n",
            "  inflating: Images/22.png           \n",
            "  inflating: Images/23.png           \n",
            "  inflating: Images/24.png           \n",
            "  inflating: Images/25.png           \n",
            "  inflating: Images/26.png           \n",
            "  inflating: Images/27.png           \n",
            "  inflating: Images/28.png           \n",
            "  inflating: Images/29.png           \n",
            "  inflating: Images/3.png            \n",
            "  inflating: Images/30.png           \n",
            "  inflating: Images/31.png           \n",
            "  inflating: Images/32.png           \n",
            "  inflating: Images/33.png           \n",
            "  inflating: Images/34.png           \n",
            "  inflating: Images/35.png           \n",
            "  inflating: Images/36.png           \n",
            "  inflating: Images/37.png           \n",
            "  inflating: Images/38.png           \n",
            "  inflating: Images/39.png           \n",
            "  inflating: Images/4.png            \n",
            "  inflating: Images/40.png           \n",
            "  inflating: Images/41.png           \n",
            "  inflating: Images/42.png           \n",
            "  inflating: Images/43.png           \n",
            "  inflating: Images/44.png           \n",
            "  inflating: Images/45.png           \n",
            "  inflating: Images/46.png           \n",
            "  inflating: Images/47.png           \n",
            "  inflating: Images/48.png           \n",
            "  inflating: Images/49.png           \n",
            "  inflating: Images/5.png            \n",
            "  inflating: Images/50.png           \n",
            "  inflating: Images/51.png           \n",
            "  inflating: Images/52.png           \n",
            "  inflating: Images/53.png           \n",
            "  inflating: Images/54.png           \n",
            "  inflating: Images/55.png           \n",
            "  inflating: Images/56.png           \n",
            "  inflating: Images/57.png           \n",
            "  inflating: Images/58.png           \n",
            "  inflating: Images/59.png           \n",
            "  inflating: Images/6.png            \n",
            "  inflating: Images/60.png           \n",
            "  inflating: Images/61.png           \n",
            "  inflating: Images/62.png           \n",
            "  inflating: Images/63.png           \n",
            "  inflating: Images/64.png           \n",
            "  inflating: Images/65.png           \n",
            "  inflating: Images/66.png           \n",
            "  inflating: Images/67.png           \n",
            "  inflating: Images/68.png           \n",
            "  inflating: Images/69.png           \n",
            "  inflating: Images/7.png            \n",
            "  inflating: Images/70.png           \n",
            "  inflating: Images/71.png           \n",
            "  inflating: Images/72.png           \n",
            "  inflating: Images/73.png           \n",
            "  inflating: Images/74.png           \n",
            "  inflating: Images/75.png           \n",
            "  inflating: Images/76.png           \n",
            "  inflating: Images/77.png           \n",
            "  inflating: Images/78.png           \n",
            "  inflating: Images/79.png           \n",
            "  inflating: Images/8.png            \n",
            "  inflating: Images/80.png           \n",
            "  inflating: Images/81.png           \n",
            "  inflating: Images/82.png           \n",
            "  inflating: Images/83.png           \n",
            "  inflating: Images/84.png           \n",
            "  inflating: Images/85.png           \n",
            "  inflating: Images/86.png           \n",
            "  inflating: Images/87.png           \n",
            "  inflating: Images/88.png           \n",
            "  inflating: Images/89.png           \n",
            "  inflating: Images/9.png            \n",
            "  inflating: Images/90.png           \n",
            "  inflating: Images/91.png           \n",
            "  inflating: Images/92.png           \n",
            "  inflating: Images/93.png           \n",
            "  inflating: Images/94.png           \n",
            "  inflating: Images/95.png           \n",
            "  inflating: Images/96.png           \n",
            "  inflating: Images/97.png           \n",
            "  inflating: Images/98.png           \n",
            "  inflating: Images/99.png           \n",
            "   creating: Segmentation1/\n",
            "  inflating: Segmentation1/1.png     \n",
            "  inflating: Segmentation1/10.png    \n",
            "  inflating: Segmentation1/100.png   \n",
            "  inflating: Segmentation1/101.png   \n",
            "  inflating: Segmentation1/102.png   \n",
            "  inflating: Segmentation1/103.png   \n",
            "  inflating: Segmentation1/104.png   \n",
            "  inflating: Segmentation1/105.png   \n",
            "  inflating: Segmentation1/106.png   \n",
            "  inflating: Segmentation1/107.png   \n",
            "  inflating: Segmentation1/108.png   \n",
            "  inflating: Segmentation1/109.png   \n",
            "  inflating: Segmentation1/11.png    \n",
            "  inflating: Segmentation1/110.png   \n",
            "  inflating: Segmentation1/111.png   \n",
            "  inflating: Segmentation1/112.png   \n",
            "  inflating: Segmentation1/113.png   \n",
            "  inflating: Segmentation1/114.png   \n",
            "  inflating: Segmentation1/115.png   \n",
            "  inflating: Segmentation1/116.png   \n",
            "  inflating: Segmentation1/12.png    \n",
            "  inflating: Segmentation1/13.png    \n",
            "  inflating: Segmentation1/14.png    \n",
            "  inflating: Segmentation1/15.png    \n",
            "  inflating: Segmentation1/16.png    \n",
            "  inflating: Segmentation1/17.png    \n",
            "  inflating: Segmentation1/18.png    \n",
            "  inflating: Segmentation1/19.png    \n",
            "  inflating: Segmentation1/2.png     \n",
            "  inflating: Segmentation1/20.png    \n",
            "  inflating: Segmentation1/21.png    \n",
            "  inflating: Segmentation1/22.png    \n",
            "  inflating: Segmentation1/23.png    \n",
            "  inflating: Segmentation1/24.png    \n",
            "  inflating: Segmentation1/25.png    \n",
            "  inflating: Segmentation1/26.png    \n",
            "  inflating: Segmentation1/27.png    \n",
            "  inflating: Segmentation1/28.png    \n",
            "  inflating: Segmentation1/29.png    \n",
            "  inflating: Segmentation1/3.png     \n",
            "  inflating: Segmentation1/30.png    \n",
            "  inflating: Segmentation1/31.png    \n",
            "  inflating: Segmentation1/32.png    \n",
            "  inflating: Segmentation1/33.png    \n",
            "  inflating: Segmentation1/34.png    \n",
            "  inflating: Segmentation1/35.png    \n",
            "  inflating: Segmentation1/36.png    \n",
            "  inflating: Segmentation1/37.png    \n",
            "  inflating: Segmentation1/38.png    \n",
            "  inflating: Segmentation1/39.png    \n",
            "  inflating: Segmentation1/4.png     \n",
            "  inflating: Segmentation1/40.png    \n",
            "  inflating: Segmentation1/41.png    \n",
            "  inflating: Segmentation1/42.png    \n",
            "  inflating: Segmentation1/43.png    \n",
            "  inflating: Segmentation1/44.png    \n",
            "  inflating: Segmentation1/45.png    \n",
            "  inflating: Segmentation1/46.png    \n",
            "  inflating: Segmentation1/47.png    \n",
            "  inflating: Segmentation1/48.png    \n",
            "  inflating: Segmentation1/49.png    \n",
            "  inflating: Segmentation1/5.png     \n",
            "  inflating: Segmentation1/50.png    \n",
            "  inflating: Segmentation1/51.png    \n",
            "  inflating: Segmentation1/52.png    \n",
            "  inflating: Segmentation1/53.png    \n",
            "  inflating: Segmentation1/54.png    \n",
            "  inflating: Segmentation1/55.png    \n",
            "  inflating: Segmentation1/56.png    \n",
            "  inflating: Segmentation1/57.png    \n",
            "  inflating: Segmentation1/58.png    \n",
            "  inflating: Segmentation1/59.png    \n",
            "  inflating: Segmentation1/6.png     \n",
            "  inflating: Segmentation1/60.png    \n",
            "  inflating: Segmentation1/61.png    \n",
            "  inflating: Segmentation1/62.png    \n",
            "  inflating: Segmentation1/63.png    \n",
            "  inflating: Segmentation1/64.png    \n",
            "  inflating: Segmentation1/65.png    \n",
            "  inflating: Segmentation1/66.png    \n",
            "  inflating: Segmentation1/67.png    \n",
            "  inflating: Segmentation1/68.png    \n",
            "  inflating: Segmentation1/69.png    \n",
            "  inflating: Segmentation1/7.png     \n",
            "  inflating: Segmentation1/70.png    \n",
            "  inflating: Segmentation1/71.png    \n",
            "  inflating: Segmentation1/72.png    \n",
            "  inflating: Segmentation1/73.png    \n",
            "  inflating: Segmentation1/74.png    \n",
            "  inflating: Segmentation1/75.png    \n",
            "  inflating: Segmentation1/76.png    \n",
            "  inflating: Segmentation1/77.png    \n",
            "  inflating: Segmentation1/78.png    \n",
            "  inflating: Segmentation1/79.png    \n",
            "  inflating: Segmentation1/8.png     \n",
            "  inflating: Segmentation1/80.png    \n",
            "  inflating: Segmentation1/81.png    \n",
            "  inflating: Segmentation1/82.png    \n",
            "  inflating: Segmentation1/83.png    \n",
            "  inflating: Segmentation1/84.png    \n",
            "  inflating: Segmentation1/85.png    \n",
            "  inflating: Segmentation1/86.png    \n",
            "  inflating: Segmentation1/87.png    \n",
            "  inflating: Segmentation1/88.png    \n",
            "  inflating: Segmentation1/89.png    \n",
            "  inflating: Segmentation1/9.png     \n",
            "  inflating: Segmentation1/90.png    \n",
            "  inflating: Segmentation1/91.png    \n",
            "  inflating: Segmentation1/92.png    \n",
            "  inflating: Segmentation1/93.png    \n",
            "  inflating: Segmentation1/94.png    \n",
            "  inflating: Segmentation1/95.png    \n",
            "  inflating: Segmentation1/96.png    \n",
            "  inflating: Segmentation1/97.png    \n",
            "  inflating: Segmentation1/98.png    \n",
            "  inflating: Segmentation1/99.png    \n"
          ]
        }
      ],
      "source": [
        "# Mengekstrak isi dari file zip DentalPanoramicXrays ke dalam direktori saat ini di Colab\n",
        "!unzip -o /content/drive/MyDrive/ProjectMandible/DentalPanoramicXrays.zip\n"
      ]
    },
    {
      "cell_type": "code",
      "execution_count": null,
      "metadata": {
        "id": "Kvm5kLpkM_A5"
      },
      "outputs": [],
      "source": [
        "import argparse\n",
        "import torch\n",
        "import torch.nn as nn\n",
        "import torch.optim as optim\n",
        "from torch.utils.data import Dataset, DataLoader\n",
        "import numpy as np\n",
        "import cv2\n",
        "import os\n",
        "from torchvision.transforms import transforms\n",
        "from tqdm import tqdm\n",
        "from torch.utils.data import DataLoader, random_split\n",
        "import matplotlib.pyplot as plt\n",
        "from segmentation_models_pytorch.losses import DiceLoss\n",
        "import segmentation_models_pytorch as smp"
      ]
    },
    {
      "cell_type": "code",
      "execution_count": null,
      "metadata": {
        "id": "r6LfpmqgiwzO"
      },
      "outputs": [],
      "source": [
        "from dataclasses import dataclass\n",
        "\n",
        "@dataclass\n",
        "class Args:\n",
        "    model: str = 'unet'\n",
        "    epochs: int = 100\n",
        "    batch_size: int = 1\n",
        "    learning_rate: float = 1e-5\n",
        "    path_to_images: str = '/content/Images'\n",
        "    path_to_masks: str = '/content/Segmentation1'\n",
        "    scale: float = 0.3\n",
        "\n",
        "args = Args()\n",
        "\n",
        "def pad(img, divisor=32):\n",
        "    height, width = img.shape[:2]\n",
        "    return img[:height - height % divisor, :width - width % divisor]"
      ]
    },
    {
      "cell_type": "code",
      "execution_count": null,
      "metadata": {
        "id": "6_ctpWTPiwxi"
      },
      "outputs": [],
      "source": [
        "class MandibleDataset(Dataset):\n",
        "    def __init__(self, path_to_images,path_to_masks, transform=None):\n",
        "        self.path_to_images = path_to_images\n",
        "        self.path_to_masks= path_to_masks\n",
        "        self.transform = transform\n",
        "        self.images = []\n",
        "        self.masks = []\n",
        "        for filename in os.listdir(self.path_to_images):\n",
        "            img = cv2.imread(os.path.join(self.path_to_images, filename), 0)\n",
        "            img=cv2.resize(img , (928,416))\n",
        "            img=pad(img)\n",
        "            img-=img.min()\n",
        "            img = img.astype(np.float32) / img.max()\n",
        "            self.images.append(img)\n",
        "        i=-1\n",
        "        for filename in os.listdir(self.path_to_masks):\n",
        "            i+=1\n",
        "            mask = cv2.imread(os.path.join(self.path_to_masks, filename), 0)\n",
        "            mask=cv2.resize(mask , (928,416))\n",
        "            mask=pad(mask)\n",
        "            mask-=mask.min()\n",
        "            mask = mask.astype(np.float32) / mask.max()\n",
        "            mask=np.where(mask==np.unique(mask)[0],0,1)\n",
        "            self.masks.append(mask)\n",
        "\n",
        "    def __len__(self):\n",
        "        return len(self.images)\n",
        "\n",
        "    def __getitem__(self, idx):\n",
        "        image = self.images[idx]\n",
        "        mask = self.masks[idx]\n",
        "        if self.transform is not None:\n",
        "            image = self.transform(image).to(device).contiguous()\n",
        "            mask = self.transform(mask).to(device).contiguous()\n",
        "        return image, mask\n",
        "\n",
        "def Dice(output,target,weight=None, eps=1e-5):\n",
        "    target = target.float()\n",
        "    if weight is None:\n",
        "        num = 2 * (output * target).sum()\n",
        "        den = output.sum() + target.sum() + eps\n",
        "    return 1.0 - num/den\n"
      ]
    },
    {
      "cell_type": "code",
      "execution_count": null,
      "metadata": {
        "id": "s5p5Joy9iwvS"
      },
      "outputs": [],
      "source": [
        "def train(model, device, train_loader, optimizer, criterion):\n",
        "    model.train()\n",
        "    train_loss = 0\n",
        "    total_dice = 0\n",
        "    for batch_idx, (data, target) in enumerate(tqdm(train_loader)):\n",
        "        data, target = data.to(device), target.to(device)\n",
        "        target=target.squeeze(1).long()\n",
        "        optimizer.zero_grad()\n",
        "        output = model(data)\n",
        "        loss = criterion(output, target)\n",
        "        train_loss += loss.item()\n",
        "        loss.backward()\n",
        "        optimizer.step()\n",
        "        total_dice +=Dice(output[:,0,:,:], target).item()\n",
        "    train_loss /= len(train_loader)\n",
        "    total_dice /= len(train_loader)\n",
        "    return train_loss, total_dice"
      ]
    },
    {
      "cell_type": "code",
      "execution_count": null,
      "metadata": {
        "id": "blEsUsPfiwtP"
      },
      "outputs": [],
      "source": [
        "def validate(model, device, val_loader, criterion):\n",
        "    model.eval()\n",
        "    val_loss = 0\n",
        "    total_dice = 0\n",
        "    with torch.no_grad():\n",
        "        for data, target in val_loader:\n",
        "            data, target = data.to(device), target.to(device)\n",
        "            target=target.squeeze(1).long()\n",
        "            output = model(data)\n",
        "            loss = criterion(output, target)\n",
        "            val_loss += loss.item()\n",
        "            total_dice += Dice(output[:,0,:,:], target).item()\n",
        "    val_loss /= len(val_loader)\n",
        "    total_dice /= len(val_loader)\n",
        "    return val_loss, total_dice"
      ]
    },
    {
      "cell_type": "code",
      "execution_count": null,
      "metadata": {
        "id": "CIiX_-w6iwl8"
      },
      "outputs": [],
      "source": [
        "def plot_loss(train_loss, val_loss):\n",
        "    plt.plot(train_loss, label='Train loss')\n",
        "    plt.plot(val_loss, label='Validation loss')\n",
        "    plt.title('Train and Validation Loss')\n",
        "    plt.xlabel('Epoch')\n",
        "    plt.ylabel('Loss')\n",
        "    plt.legend()\n",
        "    plt.show()\n"
      ]
    },
    {
      "cell_type": "code",
      "execution_count": null,
      "metadata": {
        "id": "KhT4LmvKiwhj"
      },
      "outputs": [],
      "source": [
        "def plot_dice(train_dice, val_dice):\n",
        "    plt.plot(train_dice, label='Train dice score')\n",
        "    plt.plot(val_dice, label='Validation dice score')\n",
        "    plt.title('Train and Validation Dice Score')\n",
        "    plt.xlabel('Epoch')\n",
        "    plt.ylabel('Dice score')\n",
        "    plt.legend()\n",
        "    plt.show()\n"
      ]
    },
    {
      "cell_type": "code",
      "execution_count": null,
      "metadata": {
        "id": "TGifhKnkiwe1"
      },
      "outputs": [],
      "source": [
        "def train_model(model,epochs,batch_size,learning_rate,device):\n",
        "    transform = transforms.Compose([\n",
        "        transforms.ToTensor(),\n",
        "    ])\n",
        "    criterion = DiceLoss('multiclass')\n",
        "    optimizer = optim.RMSprop(model.parameters(), lr=learning_rate)\n",
        "    dataset = MandibleDataset(args.path_to_images,args.path_to_masks, transform=transform)\n",
        "    n_val = int(len(dataset) * 0.2)\n",
        "    n_train = len(dataset) - n_val\n",
        "    train_set, val_set = random_split(dataset, [n_train, n_val], generator=torch.Generator().manual_seed(13))\n",
        "    train_loader = DataLoader(train_set,batch_size=batch_size, shuffle=True)\n",
        "    val_loader = DataLoader(val_set, shuffle=False, drop_last=True)\n",
        "    train_loss_list = []\n",
        "    val_loss_list = []\n",
        "    train_dice_list = []\n",
        "    val_dice_list = []\n",
        "    min_val_loss=1000\n",
        "    for epoch in range(epochs):\n",
        "        print('Epoch {}/{}'.format(epoch+1, epochs))\n",
        "        train_loss, train_dice = train(model, device, train_loader, optimizer, criterion)\n",
        "        print('Train loss: {:.6f}, Train dice score: {:.6f}'.format(train_loss, train_dice))\n",
        "        val_loss, val_dice = validate(model, device, val_loader, criterion)\n",
        "        print('Validation loss: {:.6f}, Validation dice score: {:.6f}'.format(val_loss, val_dice))\n",
        "        train_loss_list.append(train_loss)\n",
        "        val_loss_list.append(val_loss)\n",
        "        train_dice_list.append(train_dice)\n",
        "        val_dice_list.append(val_dice)\n",
        "        torch.save(model.state_dict(), 'checkpoints/{}_model_epoch{}.pth'.format(args.model,epoch+1))\n",
        "        if val_loss<min_val_loss:\n",
        "            min_val_loss=val_loss\n",
        "            torch.save(model.state_dict(), 'checkpoints/{}_model_best.pth'.format(args.model))\n",
        "    plot_loss(train_loss_list, val_loss_list)\n",
        "    plot_dice(train_dice_list, val_dice_list)\n"
      ]
    },
    {
      "cell_type": "code",
      "execution_count": null,
      "metadata": {
        "colab": {
          "base_uri": "https://localhost:8080/",
          "height": 1000
        },
        "id": "d9bfLQY-iwdH",
        "outputId": "83818821-33c0-4d5c-da2b-ba7105a114d4"
      },
      "outputs": [
        {
          "output_type": "stream",
          "name": "stderr",
          "text": [
            "Downloading: \"https://download.pytorch.org/models/resnet34-333f7ec4.pth\" to /root/.cache/torch/hub/checkpoints/resnet34-333f7ec4.pth\n",
            "100%|██████████| 83.3M/83.3M [00:00<00:00, 190MB/s]\n"
          ]
        },
        {
          "output_type": "stream",
          "name": "stdout",
          "text": [
            "Epoch 1/100\n"
          ]
        },
        {
          "output_type": "stream",
          "name": "stderr",
          "text": [
            "100%|██████████| 93/93 [00:11<00:00,  7.96it/s]\n"
          ]
        },
        {
          "output_type": "stream",
          "name": "stdout",
          "text": [
            "Train loss: 0.430553, Train dice score: 0.780969\n",
            "Validation loss: 0.402991, Validation dice score: 0.839128\n",
            "Epoch 2/100\n"
          ]
        },
        {
          "output_type": "stream",
          "name": "stderr",
          "text": [
            "100%|██████████| 93/93 [00:11<00:00,  7.93it/s]\n"
          ]
        },
        {
          "output_type": "stream",
          "name": "stdout",
          "text": [
            "Train loss: 0.382788, Train dice score: 0.868692\n",
            "Validation loss: 0.380422, Validation dice score: 0.869722\n",
            "Epoch 3/100\n"
          ]
        },
        {
          "output_type": "stream",
          "name": "stderr",
          "text": [
            "100%|██████████| 93/93 [00:11<00:00,  8.43it/s]\n"
          ]
        },
        {
          "output_type": "stream",
          "name": "stdout",
          "text": [
            "Train loss: 0.366224, Train dice score: 0.889820\n",
            "Validation loss: 0.369253, Validation dice score: 0.880668\n",
            "Epoch 4/100\n"
          ]
        },
        {
          "output_type": "stream",
          "name": "stderr",
          "text": [
            "100%|██████████| 93/93 [00:10<00:00,  8.98it/s]\n"
          ]
        },
        {
          "output_type": "stream",
          "name": "stdout",
          "text": [
            "Train loss: 0.355804, Train dice score: 0.903749\n",
            "Validation loss: 0.360302, Validation dice score: 0.894622\n",
            "Epoch 5/100\n"
          ]
        },
        {
          "output_type": "stream",
          "name": "stderr",
          "text": [
            "100%|██████████| 93/93 [00:11<00:00,  8.43it/s]\n"
          ]
        },
        {
          "output_type": "stream",
          "name": "stdout",
          "text": [
            "Train loss: 0.348142, Train dice score: 0.914504\n",
            "Validation loss: 0.354243, Validation dice score: 0.899558\n",
            "Epoch 6/100\n"
          ]
        },
        {
          "output_type": "stream",
          "name": "stderr",
          "text": [
            "100%|██████████| 93/93 [00:10<00:00,  8.62it/s]\n"
          ]
        },
        {
          "output_type": "stream",
          "name": "stdout",
          "text": [
            "Train loss: 0.342036, Train dice score: 0.922844\n",
            "Validation loss: 0.349052, Validation dice score: 0.907635\n",
            "Epoch 7/100\n"
          ]
        },
        {
          "output_type": "stream",
          "name": "stderr",
          "text": [
            "100%|██████████| 93/93 [00:10<00:00,  9.04it/s]\n"
          ]
        },
        {
          "output_type": "stream",
          "name": "stdout",
          "text": [
            "Train loss: 0.336662, Train dice score: 0.929728\n",
            "Validation loss: 0.343695, Validation dice score: 0.912604\n",
            "Epoch 8/100\n"
          ]
        },
        {
          "output_type": "stream",
          "name": "stderr",
          "text": [
            "100%|██████████| 93/93 [00:10<00:00,  8.99it/s]\n"
          ]
        },
        {
          "output_type": "stream",
          "name": "stdout",
          "text": [
            "Train loss: 0.331492, Train dice score: 0.936467\n",
            "Validation loss: 0.339732, Validation dice score: 0.920823\n",
            "Epoch 9/100\n"
          ]
        },
        {
          "output_type": "stream",
          "name": "stderr",
          "text": [
            "100%|██████████| 93/93 [00:10<00:00,  9.03it/s]\n"
          ]
        },
        {
          "output_type": "stream",
          "name": "stdout",
          "text": [
            "Train loss: 0.326871, Train dice score: 0.941972\n",
            "Validation loss: 0.336150, Validation dice score: 0.922077\n",
            "Epoch 10/100\n"
          ]
        },
        {
          "output_type": "stream",
          "name": "stderr",
          "text": [
            "100%|██████████| 93/93 [00:10<00:00,  8.97it/s]\n"
          ]
        },
        {
          "output_type": "stream",
          "name": "stdout",
          "text": [
            "Train loss: 0.322978, Train dice score: 0.946294\n",
            "Validation loss: 0.332307, Validation dice score: 0.928368\n",
            "Epoch 11/100\n"
          ]
        },
        {
          "output_type": "stream",
          "name": "stderr",
          "text": [
            "100%|██████████| 93/93 [00:10<00:00,  8.54it/s]\n"
          ]
        },
        {
          "output_type": "stream",
          "name": "stdout",
          "text": [
            "Train loss: 0.319784, Train dice score: 0.949776\n",
            "Validation loss: 0.330016, Validation dice score: 0.926530\n",
            "Epoch 12/100\n"
          ]
        },
        {
          "output_type": "stream",
          "name": "stderr",
          "text": [
            "100%|██████████| 93/93 [00:10<00:00,  8.88it/s]\n"
          ]
        },
        {
          "output_type": "stream",
          "name": "stdout",
          "text": [
            "Train loss: 0.316857, Train dice score: 0.953056\n",
            "Validation loss: 0.325857, Validation dice score: 0.940630\n",
            "Epoch 13/100\n"
          ]
        },
        {
          "output_type": "stream",
          "name": "stderr",
          "text": [
            "100%|██████████| 93/93 [00:10<00:00,  8.84it/s]\n"
          ]
        },
        {
          "output_type": "stream",
          "name": "stdout",
          "text": [
            "Train loss: 0.314270, Train dice score: 0.955896\n",
            "Validation loss: 0.325055, Validation dice score: 0.935691\n",
            "Epoch 14/100\n"
          ]
        },
        {
          "output_type": "stream",
          "name": "stderr",
          "text": [
            "100%|██████████| 93/93 [00:10<00:00,  8.88it/s]\n"
          ]
        },
        {
          "output_type": "stream",
          "name": "stdout",
          "text": [
            "Train loss: 0.311992, Train dice score: 0.958180\n",
            "Validation loss: 0.322326, Validation dice score: 0.939514\n",
            "Epoch 15/100\n"
          ]
        },
        {
          "output_type": "stream",
          "name": "stderr",
          "text": [
            "100%|██████████| 93/93 [00:11<00:00,  8.36it/s]\n"
          ]
        },
        {
          "output_type": "stream",
          "name": "stdout",
          "text": [
            "Train loss: 0.309762, Train dice score: 0.960522\n",
            "Validation loss: 0.321143, Validation dice score: 0.936920\n",
            "Epoch 16/100\n"
          ]
        },
        {
          "output_type": "stream",
          "name": "stderr",
          "text": [
            "100%|██████████| 93/93 [00:10<00:00,  8.75it/s]\n"
          ]
        },
        {
          "output_type": "stream",
          "name": "stdout",
          "text": [
            "Train loss: 0.307773, Train dice score: 0.962459\n",
            "Validation loss: 0.318900, Validation dice score: 0.937839\n",
            "Epoch 17/100\n"
          ]
        },
        {
          "output_type": "stream",
          "name": "stderr",
          "text": [
            "100%|██████████| 93/93 [00:11<00:00,  8.20it/s]\n"
          ]
        },
        {
          "output_type": "stream",
          "name": "stdout",
          "text": [
            "Train loss: 0.305955, Train dice score: 0.964388\n",
            "Validation loss: 0.317198, Validation dice score: 0.941223\n",
            "Epoch 18/100\n"
          ]
        },
        {
          "output_type": "stream",
          "name": "stderr",
          "text": [
            "100%|██████████| 93/93 [00:10<00:00,  8.72it/s]\n"
          ]
        },
        {
          "output_type": "stream",
          "name": "stdout",
          "text": [
            "Train loss: 0.304178, Train dice score: 0.966181\n",
            "Validation loss: 0.315640, Validation dice score: 0.946302\n",
            "Epoch 19/100\n"
          ]
        },
        {
          "output_type": "stream",
          "name": "stderr",
          "text": [
            "100%|██████████| 93/93 [00:10<00:00,  8.74it/s]\n"
          ]
        },
        {
          "output_type": "stream",
          "name": "stdout",
          "text": [
            "Train loss: 0.302512, Train dice score: 0.967867\n",
            "Validation loss: 0.314081, Validation dice score: 0.942179\n",
            "Epoch 20/100\n"
          ]
        },
        {
          "output_type": "stream",
          "name": "stderr",
          "text": [
            "100%|██████████| 93/93 [00:10<00:00,  8.77it/s]\n"
          ]
        },
        {
          "output_type": "stream",
          "name": "stdout",
          "text": [
            "Train loss: 0.301106, Train dice score: 0.969275\n",
            "Validation loss: 0.312379, Validation dice score: 0.949122\n",
            "Epoch 21/100\n"
          ]
        },
        {
          "output_type": "stream",
          "name": "stderr",
          "text": [
            "100%|██████████| 93/93 [00:11<00:00,  8.18it/s]\n"
          ]
        },
        {
          "output_type": "stream",
          "name": "stdout",
          "text": [
            "Train loss: 0.299634, Train dice score: 0.970670\n",
            "Validation loss: 0.311183, Validation dice score: 0.952428\n",
            "Epoch 22/100\n"
          ]
        },
        {
          "output_type": "stream",
          "name": "stderr",
          "text": [
            "100%|██████████| 93/93 [00:10<00:00,  8.71it/s]\n"
          ]
        },
        {
          "output_type": "stream",
          "name": "stdout",
          "text": [
            "Train loss: 0.298267, Train dice score: 0.972113\n",
            "Validation loss: 0.310648, Validation dice score: 0.944693\n",
            "Epoch 23/100\n"
          ]
        },
        {
          "output_type": "stream",
          "name": "stderr",
          "text": [
            "100%|██████████| 93/93 [00:10<00:00,  8.56it/s]\n"
          ]
        },
        {
          "output_type": "stream",
          "name": "stdout",
          "text": [
            "Train loss: 0.297015, Train dice score: 0.973455\n",
            "Validation loss: 0.308621, Validation dice score: 0.954743\n",
            "Epoch 24/100\n"
          ]
        },
        {
          "output_type": "stream",
          "name": "stderr",
          "text": [
            "100%|██████████| 93/93 [00:11<00:00,  7.75it/s]\n"
          ]
        },
        {
          "output_type": "stream",
          "name": "stdout",
          "text": [
            "Train loss: 0.295831, Train dice score: 0.974611\n",
            "Validation loss: 0.307548, Validation dice score: 0.955744\n",
            "Epoch 25/100\n"
          ]
        },
        {
          "output_type": "stream",
          "name": "stderr",
          "text": [
            "100%|██████████| 93/93 [00:10<00:00,  8.67it/s]\n"
          ]
        },
        {
          "output_type": "stream",
          "name": "stdout",
          "text": [
            "Train loss: 0.294827, Train dice score: 0.975544\n",
            "Validation loss: 0.306242, Validation dice score: 0.955607\n",
            "Epoch 26/100\n"
          ]
        },
        {
          "output_type": "stream",
          "name": "stderr",
          "text": [
            "100%|██████████| 93/93 [00:10<00:00,  8.70it/s]\n"
          ]
        },
        {
          "output_type": "stream",
          "name": "stdout",
          "text": [
            "Train loss: 0.293734, Train dice score: 0.976630\n",
            "Validation loss: 0.305582, Validation dice score: 0.952112\n",
            "Epoch 27/100\n"
          ]
        },
        {
          "output_type": "stream",
          "name": "stderr",
          "text": [
            "100%|██████████| 93/93 [00:10<00:00,  8.69it/s]\n"
          ]
        },
        {
          "output_type": "stream",
          "name": "stdout",
          "text": [
            "Train loss: 0.292823, Train dice score: 0.977576\n",
            "Validation loss: 0.305133, Validation dice score: 0.950600\n",
            "Epoch 28/100\n"
          ]
        },
        {
          "output_type": "stream",
          "name": "stderr",
          "text": [
            "100%|██████████| 93/93 [00:10<00:00,  8.63it/s]\n"
          ]
        },
        {
          "output_type": "stream",
          "name": "stdout",
          "text": [
            "Train loss: 0.291800, Train dice score: 0.978689\n",
            "Validation loss: 0.304222, Validation dice score: 0.953107\n",
            "Epoch 29/100\n"
          ]
        },
        {
          "output_type": "stream",
          "name": "stderr",
          "text": [
            "100%|██████████| 93/93 [00:10<00:00,  8.49it/s]\n"
          ]
        },
        {
          "output_type": "stream",
          "name": "stdout",
          "text": [
            "Train loss: 0.290946, Train dice score: 0.979507\n",
            "Validation loss: 0.303617, Validation dice score: 0.955123\n",
            "Epoch 30/100\n"
          ]
        },
        {
          "output_type": "stream",
          "name": "stderr",
          "text": [
            "100%|██████████| 93/93 [00:11<00:00,  8.39it/s]\n"
          ]
        },
        {
          "output_type": "stream",
          "name": "stdout",
          "text": [
            "Train loss: 0.290176, Train dice score: 0.980380\n",
            "Validation loss: 0.302697, Validation dice score: 0.954949\n",
            "Epoch 31/100\n"
          ]
        },
        {
          "output_type": "stream",
          "name": "stderr",
          "text": [
            "100%|██████████| 93/93 [00:10<00:00,  8.59it/s]\n"
          ]
        },
        {
          "output_type": "stream",
          "name": "stdout",
          "text": [
            "Train loss: 0.289415, Train dice score: 0.981193\n",
            "Validation loss: 0.302537, Validation dice score: 0.953832\n",
            "Epoch 32/100\n"
          ]
        },
        {
          "output_type": "stream",
          "name": "stderr",
          "text": [
            "100%|██████████| 93/93 [00:10<00:00,  8.68it/s]\n"
          ]
        },
        {
          "output_type": "stream",
          "name": "stdout",
          "text": [
            "Train loss: 0.288693, Train dice score: 0.981962\n",
            "Validation loss: 0.301227, Validation dice score: 0.958686\n",
            "Epoch 33/100\n"
          ]
        },
        {
          "output_type": "stream",
          "name": "stderr",
          "text": [
            "100%|██████████| 93/93 [00:10<00:00,  8.64it/s]\n"
          ]
        },
        {
          "output_type": "stream",
          "name": "stdout",
          "text": [
            "Train loss: 0.288086, Train dice score: 0.982495\n",
            "Validation loss: 0.300587, Validation dice score: 0.960080\n",
            "Epoch 34/100\n"
          ]
        },
        {
          "output_type": "stream",
          "name": "stderr",
          "text": [
            "100%|██████████| 93/93 [00:10<00:00,  8.60it/s]\n"
          ]
        },
        {
          "output_type": "stream",
          "name": "stdout",
          "text": [
            "Train loss: 0.287393, Train dice score: 0.983373\n",
            "Validation loss: 0.300883, Validation dice score: 0.953815\n",
            "Epoch 35/100\n"
          ]
        },
        {
          "output_type": "stream",
          "name": "stderr",
          "text": [
            "100%|██████████| 93/93 [00:10<00:00,  8.63it/s]\n"
          ]
        },
        {
          "output_type": "stream",
          "name": "stdout",
          "text": [
            "Train loss: 0.286754, Train dice score: 0.984051\n",
            "Validation loss: 0.300362, Validation dice score: 0.957011\n",
            "Epoch 36/100\n"
          ]
        },
        {
          "output_type": "stream",
          "name": "stderr",
          "text": [
            "100%|██████████| 93/93 [00:10<00:00,  8.63it/s]\n"
          ]
        },
        {
          "output_type": "stream",
          "name": "stdout",
          "text": [
            "Train loss: 0.286271, Train dice score: 0.984631\n",
            "Validation loss: 0.299027, Validation dice score: 0.957933\n",
            "Epoch 37/100\n"
          ]
        },
        {
          "output_type": "stream",
          "name": "stderr",
          "text": [
            "100%|██████████| 93/93 [00:10<00:00,  8.67it/s]\n"
          ]
        },
        {
          "output_type": "stream",
          "name": "stdout",
          "text": [
            "Train loss: 0.285688, Train dice score: 0.985201\n",
            "Validation loss: 0.298085, Validation dice score: 0.960917\n",
            "Epoch 38/100\n"
          ]
        },
        {
          "output_type": "stream",
          "name": "stderr",
          "text": [
            "100%|██████████| 93/93 [00:10<00:00,  8.59it/s]\n"
          ]
        },
        {
          "output_type": "stream",
          "name": "stdout",
          "text": [
            "Train loss: 0.285241, Train dice score: 0.985776\n",
            "Validation loss: 0.297948, Validation dice score: 0.962237\n",
            "Epoch 39/100\n"
          ]
        },
        {
          "output_type": "stream",
          "name": "stderr",
          "text": [
            "100%|██████████| 93/93 [00:10<00:00,  8.63it/s]\n"
          ]
        },
        {
          "output_type": "stream",
          "name": "stdout",
          "text": [
            "Train loss: 0.284718, Train dice score: 0.986295\n",
            "Validation loss: 0.297685, Validation dice score: 0.961363\n",
            "Epoch 40/100\n"
          ]
        },
        {
          "output_type": "stream",
          "name": "stderr",
          "text": [
            "100%|██████████| 93/93 [00:10<00:00,  8.63it/s]\n"
          ]
        },
        {
          "output_type": "stream",
          "name": "stdout",
          "text": [
            "Train loss: 0.284277, Train dice score: 0.986874\n",
            "Validation loss: 0.297291, Validation dice score: 0.957188\n",
            "Epoch 41/100\n"
          ]
        },
        {
          "output_type": "stream",
          "name": "stderr",
          "text": [
            "100%|██████████| 93/93 [00:11<00:00,  8.41it/s]\n"
          ]
        },
        {
          "output_type": "stream",
          "name": "stdout",
          "text": [
            "Train loss: 0.283942, Train dice score: 0.987284\n",
            "Validation loss: 0.297428, Validation dice score: 0.957018\n",
            "Epoch 42/100\n"
          ]
        },
        {
          "output_type": "stream",
          "name": "stderr",
          "text": [
            "100%|██████████| 93/93 [00:10<00:00,  8.65it/s]\n"
          ]
        },
        {
          "output_type": "stream",
          "name": "stdout",
          "text": [
            "Train loss: 0.283470, Train dice score: 0.987730\n",
            "Validation loss: 0.296938, Validation dice score: 0.959786\n",
            "Epoch 43/100\n"
          ]
        },
        {
          "output_type": "stream",
          "name": "stderr",
          "text": [
            "100%|██████████| 93/93 [00:10<00:00,  8.67it/s]\n"
          ]
        },
        {
          "output_type": "stream",
          "name": "stdout",
          "text": [
            "Train loss: 0.283133, Train dice score: 0.988260\n",
            "Validation loss: 0.296351, Validation dice score: 0.960512\n",
            "Epoch 44/100\n"
          ]
        },
        {
          "output_type": "stream",
          "name": "stderr",
          "text": [
            "100%|██████████| 93/93 [00:10<00:00,  8.63it/s]\n"
          ]
        },
        {
          "output_type": "stream",
          "name": "stdout",
          "text": [
            "Train loss: 0.282768, Train dice score: 0.988645\n",
            "Validation loss: 0.296120, Validation dice score: 0.959363\n",
            "Epoch 45/100\n"
          ]
        },
        {
          "output_type": "stream",
          "name": "stderr",
          "text": [
            "100%|██████████| 93/93 [00:10<00:00,  8.63it/s]\n"
          ]
        },
        {
          "output_type": "stream",
          "name": "stdout",
          "text": [
            "Train loss: 0.282452, Train dice score: 0.989059\n",
            "Validation loss: 0.295519, Validation dice score: 0.964555\n",
            "Epoch 46/100\n"
          ]
        },
        {
          "output_type": "stream",
          "name": "stderr",
          "text": [
            "100%|██████████| 93/93 [00:10<00:00,  8.61it/s]\n"
          ]
        },
        {
          "output_type": "stream",
          "name": "stdout",
          "text": [
            "Train loss: 0.282192, Train dice score: 0.989332\n",
            "Validation loss: 0.295451, Validation dice score: 0.962850\n",
            "Epoch 47/100\n"
          ]
        },
        {
          "output_type": "stream",
          "name": "stderr",
          "text": [
            "100%|██████████| 93/93 [00:10<00:00,  8.64it/s]\n"
          ]
        },
        {
          "output_type": "stream",
          "name": "stdout",
          "text": [
            "Train loss: 0.281875, Train dice score: 0.989705\n",
            "Validation loss: 0.295543, Validation dice score: 0.960331\n",
            "Epoch 48/100\n"
          ]
        },
        {
          "output_type": "stream",
          "name": "stderr",
          "text": [
            "100%|██████████| 93/93 [00:10<00:00,  8.63it/s]\n"
          ]
        },
        {
          "output_type": "stream",
          "name": "stdout",
          "text": [
            "Train loss: 0.281557, Train dice score: 0.990141\n",
            "Validation loss: 0.294919, Validation dice score: 0.960929\n",
            "Epoch 49/100\n"
          ]
        },
        {
          "output_type": "stream",
          "name": "stderr",
          "text": [
            "100%|██████████| 93/93 [00:10<00:00,  8.62it/s]\n"
          ]
        },
        {
          "output_type": "stream",
          "name": "stdout",
          "text": [
            "Train loss: 0.281342, Train dice score: 0.990420\n",
            "Validation loss: 0.294066, Validation dice score: 0.966709\n",
            "Epoch 50/100\n"
          ]
        },
        {
          "output_type": "stream",
          "name": "stderr",
          "text": [
            "100%|██████████| 93/93 [00:10<00:00,  8.63it/s]\n"
          ]
        },
        {
          "output_type": "stream",
          "name": "stdout",
          "text": [
            "Train loss: 0.281133, Train dice score: 0.990656\n",
            "Validation loss: 0.294629, Validation dice score: 0.962029\n",
            "Epoch 51/100\n"
          ]
        },
        {
          "output_type": "stream",
          "name": "stderr",
          "text": [
            "100%|██████████| 93/93 [00:10<00:00,  8.59it/s]\n"
          ]
        },
        {
          "output_type": "stream",
          "name": "stdout",
          "text": [
            "Train loss: 0.280833, Train dice score: 0.991084\n",
            "Validation loss: 0.294191, Validation dice score: 0.966281\n",
            "Epoch 52/100\n"
          ]
        },
        {
          "output_type": "stream",
          "name": "stderr",
          "text": [
            "100%|██████████| 93/93 [00:10<00:00,  8.60it/s]\n"
          ]
        },
        {
          "output_type": "stream",
          "name": "stdout",
          "text": [
            "Train loss: 0.280631, Train dice score: 0.991329\n",
            "Validation loss: 0.293658, Validation dice score: 0.966529\n",
            "Epoch 53/100\n"
          ]
        },
        {
          "output_type": "stream",
          "name": "stderr",
          "text": [
            "100%|██████████| 93/93 [00:10<00:00,  8.64it/s]\n"
          ]
        },
        {
          "output_type": "stream",
          "name": "stdout",
          "text": [
            "Train loss: 0.280453, Train dice score: 0.991572\n",
            "Validation loss: 0.294542, Validation dice score: 0.962971\n",
            "Epoch 54/100\n"
          ]
        },
        {
          "output_type": "stream",
          "name": "stderr",
          "text": [
            "100%|██████████| 93/93 [00:10<00:00,  8.62it/s]\n"
          ]
        },
        {
          "output_type": "stream",
          "name": "stdout",
          "text": [
            "Train loss: 0.280250, Train dice score: 0.991795\n",
            "Validation loss: 0.295018, Validation dice score: 0.960398\n",
            "Epoch 55/100\n"
          ]
        },
        {
          "output_type": "stream",
          "name": "stderr",
          "text": [
            "100%|██████████| 93/93 [00:10<00:00,  8.59it/s]\n"
          ]
        },
        {
          "output_type": "stream",
          "name": "stdout",
          "text": [
            "Train loss: 0.280048, Train dice score: 0.992094\n",
            "Validation loss: 0.293842, Validation dice score: 0.964634\n",
            "Epoch 56/100\n"
          ]
        },
        {
          "output_type": "stream",
          "name": "stderr",
          "text": [
            "100%|██████████| 93/93 [00:10<00:00,  8.59it/s]\n"
          ]
        },
        {
          "output_type": "stream",
          "name": "stdout",
          "text": [
            "Train loss: 0.279857, Train dice score: 0.992452\n",
            "Validation loss: 0.293064, Validation dice score: 0.966983\n",
            "Epoch 57/100\n"
          ]
        },
        {
          "output_type": "stream",
          "name": "stderr",
          "text": [
            "100%|██████████| 93/93 [00:10<00:00,  8.60it/s]\n"
          ]
        },
        {
          "output_type": "stream",
          "name": "stdout",
          "text": [
            "Train loss: 0.279732, Train dice score: 0.992558\n",
            "Validation loss: 0.293886, Validation dice score: 0.962829\n",
            "Epoch 58/100\n"
          ]
        },
        {
          "output_type": "stream",
          "name": "stderr",
          "text": [
            "100%|██████████| 93/93 [00:10<00:00,  8.61it/s]\n"
          ]
        },
        {
          "output_type": "stream",
          "name": "stdout",
          "text": [
            "Train loss: 0.279606, Train dice score: 0.992720\n",
            "Validation loss: 0.292781, Validation dice score: 0.966612\n",
            "Epoch 59/100\n"
          ]
        },
        {
          "output_type": "stream",
          "name": "stderr",
          "text": [
            "100%|██████████| 93/93 [00:10<00:00,  8.59it/s]\n"
          ]
        },
        {
          "output_type": "stream",
          "name": "stdout",
          "text": [
            "Train loss: 0.279453, Train dice score: 0.992996\n",
            "Validation loss: 0.292792, Validation dice score: 0.967820\n",
            "Epoch 60/100\n"
          ]
        },
        {
          "output_type": "stream",
          "name": "stderr",
          "text": [
            "100%|██████████| 93/93 [00:10<00:00,  8.63it/s]\n"
          ]
        },
        {
          "output_type": "stream",
          "name": "stdout",
          "text": [
            "Train loss: 0.279290, Train dice score: 0.993233\n",
            "Validation loss: 0.292658, Validation dice score: 0.965739\n",
            "Epoch 61/100\n"
          ]
        },
        {
          "output_type": "stream",
          "name": "stderr",
          "text": [
            "100%|██████████| 93/93 [00:10<00:00,  8.62it/s]\n"
          ]
        },
        {
          "output_type": "stream",
          "name": "stdout",
          "text": [
            "Train loss: 0.279125, Train dice score: 0.993460\n",
            "Validation loss: 0.292329, Validation dice score: 0.968354\n",
            "Epoch 62/100\n"
          ]
        },
        {
          "output_type": "stream",
          "name": "stderr",
          "text": [
            "100%|██████████| 93/93 [00:10<00:00,  8.65it/s]\n"
          ]
        },
        {
          "output_type": "stream",
          "name": "stdout",
          "text": [
            "Train loss: 0.279027, Train dice score: 0.993540\n",
            "Validation loss: 0.293397, Validation dice score: 0.962872\n",
            "Epoch 63/100\n"
          ]
        },
        {
          "output_type": "stream",
          "name": "stderr",
          "text": [
            "100%|██████████| 93/93 [00:10<00:00,  8.65it/s]\n"
          ]
        },
        {
          "output_type": "stream",
          "name": "stdout",
          "text": [
            "Train loss: 0.278926, Train dice score: 0.993693\n",
            "Validation loss: 0.293138, Validation dice score: 0.964745\n",
            "Epoch 64/100\n"
          ]
        },
        {
          "output_type": "stream",
          "name": "stderr",
          "text": [
            "100%|██████████| 93/93 [00:10<00:00,  8.52it/s]\n"
          ]
        },
        {
          "output_type": "stream",
          "name": "stdout",
          "text": [
            "Train loss: 0.278780, Train dice score: 0.993974\n",
            "Validation loss: 0.292759, Validation dice score: 0.964248\n",
            "Epoch 65/100\n"
          ]
        },
        {
          "output_type": "stream",
          "name": "stderr",
          "text": [
            "100%|██████████| 93/93 [00:11<00:00,  8.09it/s]\n"
          ]
        },
        {
          "output_type": "stream",
          "name": "stdout",
          "text": [
            "Train loss: 0.278703, Train dice score: 0.993998\n",
            "Validation loss: 0.292469, Validation dice score: 0.968770\n",
            "Epoch 66/100\n"
          ]
        },
        {
          "output_type": "stream",
          "name": "stderr",
          "text": [
            "100%|██████████| 93/93 [00:10<00:00,  8.59it/s]\n"
          ]
        },
        {
          "output_type": "stream",
          "name": "stdout",
          "text": [
            "Train loss: 0.278595, Train dice score: 0.994231\n",
            "Validation loss: 0.292286, Validation dice score: 0.967439\n",
            "Epoch 67/100\n"
          ]
        },
        {
          "output_type": "stream",
          "name": "stderr",
          "text": [
            "100%|██████████| 93/93 [00:10<00:00,  8.52it/s]\n"
          ]
        },
        {
          "output_type": "stream",
          "name": "stdout",
          "text": [
            "Train loss: 0.278499, Train dice score: 0.994323\n",
            "Validation loss: 0.292527, Validation dice score: 0.967236\n",
            "Epoch 68/100\n"
          ]
        },
        {
          "output_type": "stream",
          "name": "stderr",
          "text": [
            "100%|██████████| 93/93 [00:10<00:00,  8.54it/s]\n"
          ]
        },
        {
          "output_type": "stream",
          "name": "stdout",
          "text": [
            "Train loss: 0.278379, Train dice score: 0.994519\n",
            "Validation loss: 0.292615, Validation dice score: 0.967893\n",
            "Epoch 69/100\n"
          ]
        },
        {
          "output_type": "stream",
          "name": "stderr",
          "text": [
            "100%|██████████| 93/93 [00:10<00:00,  8.54it/s]\n"
          ]
        },
        {
          "output_type": "stream",
          "name": "stdout",
          "text": [
            "Train loss: 0.278332, Train dice score: 0.994652\n",
            "Validation loss: 0.291730, Validation dice score: 0.967347\n",
            "Epoch 70/100\n"
          ]
        },
        {
          "output_type": "stream",
          "name": "stderr",
          "text": [
            "100%|██████████| 93/93 [00:11<00:00,  8.31it/s]\n"
          ]
        },
        {
          "output_type": "stream",
          "name": "stdout",
          "text": [
            "Train loss: 0.278221, Train dice score: 0.994820\n",
            "Validation loss: 0.291522, Validation dice score: 0.967708\n",
            "Epoch 71/100\n"
          ]
        },
        {
          "output_type": "stream",
          "name": "stderr",
          "text": [
            "100%|██████████| 93/93 [00:10<00:00,  8.56it/s]\n"
          ]
        },
        {
          "output_type": "stream",
          "name": "stdout",
          "text": [
            "Train loss: 0.278149, Train dice score: 0.994914\n",
            "Validation loss: 0.292187, Validation dice score: 0.965622\n",
            "Epoch 72/100\n"
          ]
        },
        {
          "output_type": "stream",
          "name": "stderr",
          "text": [
            "100%|██████████| 93/93 [00:10<00:00,  8.58it/s]\n"
          ]
        },
        {
          "output_type": "stream",
          "name": "stdout",
          "text": [
            "Train loss: 0.278143, Train dice score: 0.994858\n",
            "Validation loss: 0.291823, Validation dice score: 0.969187\n",
            "Epoch 73/100\n"
          ]
        },
        {
          "output_type": "stream",
          "name": "stderr",
          "text": [
            "100%|██████████| 93/93 [00:10<00:00,  8.56it/s]\n"
          ]
        },
        {
          "output_type": "stream",
          "name": "stdout",
          "text": [
            "Train loss: 0.278031, Train dice score: 0.995072\n",
            "Validation loss: 0.291012, Validation dice score: 0.971516\n",
            "Epoch 74/100\n"
          ]
        },
        {
          "output_type": "stream",
          "name": "stderr",
          "text": [
            "100%|██████████| 93/93 [00:10<00:00,  8.61it/s]\n"
          ]
        },
        {
          "output_type": "stream",
          "name": "stdout",
          "text": [
            "Train loss: 0.278010, Train dice score: 0.995091\n",
            "Validation loss: 0.292131, Validation dice score: 0.964117\n",
            "Epoch 75/100\n"
          ]
        },
        {
          "output_type": "stream",
          "name": "stderr",
          "text": [
            "100%|██████████| 93/93 [00:10<00:00,  8.56it/s]\n"
          ]
        },
        {
          "output_type": "stream",
          "name": "stdout",
          "text": [
            "Train loss: 0.277853, Train dice score: 0.995331\n",
            "Validation loss: 0.291781, Validation dice score: 0.968993\n",
            "Epoch 76/100\n"
          ]
        },
        {
          "output_type": "stream",
          "name": "stderr",
          "text": [
            "100%|██████████| 93/93 [00:10<00:00,  8.54it/s]\n"
          ]
        },
        {
          "output_type": "stream",
          "name": "stdout",
          "text": [
            "Train loss: 0.277856, Train dice score: 0.995343\n",
            "Validation loss: 0.291235, Validation dice score: 0.969547\n",
            "Epoch 77/100\n"
          ]
        },
        {
          "output_type": "stream",
          "name": "stderr",
          "text": [
            "100%|██████████| 93/93 [00:10<00:00,  8.55it/s]\n"
          ]
        },
        {
          "output_type": "stream",
          "name": "stdout",
          "text": [
            "Train loss: 0.277763, Train dice score: 0.995550\n",
            "Validation loss: 0.291734, Validation dice score: 0.967348\n",
            "Epoch 78/100\n"
          ]
        },
        {
          "output_type": "stream",
          "name": "stderr",
          "text": [
            "100%|██████████| 93/93 [00:10<00:00,  8.54it/s]\n"
          ]
        },
        {
          "output_type": "stream",
          "name": "stdout",
          "text": [
            "Train loss: 0.277718, Train dice score: 0.995590\n",
            "Validation loss: 0.291766, Validation dice score: 0.969356\n",
            "Epoch 79/100\n"
          ]
        },
        {
          "output_type": "stream",
          "name": "stderr",
          "text": [
            "100%|██████████| 93/93 [00:10<00:00,  8.52it/s]\n"
          ]
        },
        {
          "output_type": "stream",
          "name": "stdout",
          "text": [
            "Train loss: 0.277677, Train dice score: 0.995675\n",
            "Validation loss: 0.290836, Validation dice score: 0.971172\n",
            "Epoch 80/100\n"
          ]
        },
        {
          "output_type": "stream",
          "name": "stderr",
          "text": [
            "100%|██████████| 93/93 [00:10<00:00,  8.59it/s]\n"
          ]
        },
        {
          "output_type": "stream",
          "name": "stdout",
          "text": [
            "Train loss: 0.277571, Train dice score: 0.995826\n",
            "Validation loss: 0.292437, Validation dice score: 0.965627\n",
            "Epoch 81/100\n"
          ]
        },
        {
          "output_type": "stream",
          "name": "stderr",
          "text": [
            "100%|██████████| 93/93 [00:10<00:00,  8.56it/s]\n"
          ]
        },
        {
          "output_type": "stream",
          "name": "stdout",
          "text": [
            "Train loss: 0.277599, Train dice score: 0.995732\n",
            "Validation loss: 0.290905, Validation dice score: 0.968924\n",
            "Epoch 82/100\n"
          ]
        },
        {
          "output_type": "stream",
          "name": "stderr",
          "text": [
            "100%|██████████| 93/93 [00:10<00:00,  8.55it/s]\n"
          ]
        },
        {
          "output_type": "stream",
          "name": "stdout",
          "text": [
            "Train loss: 0.277519, Train dice score: 0.995868\n",
            "Validation loss: 0.291972, Validation dice score: 0.967132\n",
            "Epoch 83/100\n"
          ]
        },
        {
          "output_type": "stream",
          "name": "stderr",
          "text": [
            "100%|██████████| 93/93 [00:10<00:00,  8.57it/s]\n"
          ]
        },
        {
          "output_type": "stream",
          "name": "stdout",
          "text": [
            "Train loss: 0.277474, Train dice score: 0.995954\n",
            "Validation loss: 0.291584, Validation dice score: 0.968281\n",
            "Epoch 84/100\n"
          ]
        },
        {
          "output_type": "stream",
          "name": "stderr",
          "text": [
            "100%|██████████| 93/93 [00:10<00:00,  8.57it/s]\n"
          ]
        },
        {
          "output_type": "stream",
          "name": "stdout",
          "text": [
            "Train loss: 0.277411, Train dice score: 0.996125\n",
            "Validation loss: 0.290739, Validation dice score: 0.969703\n",
            "Epoch 85/100\n"
          ]
        },
        {
          "output_type": "stream",
          "name": "stderr",
          "text": [
            "100%|██████████| 93/93 [00:10<00:00,  8.60it/s]\n"
          ]
        },
        {
          "output_type": "stream",
          "name": "stdout",
          "text": [
            "Train loss: 0.277414, Train dice score: 0.996064\n",
            "Validation loss: 0.291504, Validation dice score: 0.965549\n",
            "Epoch 86/100\n"
          ]
        },
        {
          "output_type": "stream",
          "name": "stderr",
          "text": [
            "100%|██████████| 93/93 [00:11<00:00,  8.06it/s]\n"
          ]
        },
        {
          "output_type": "stream",
          "name": "stdout",
          "text": [
            "Train loss: 0.277385, Train dice score: 0.996118\n",
            "Validation loss: 0.291782, Validation dice score: 0.964748\n",
            "Epoch 87/100\n"
          ]
        },
        {
          "output_type": "stream",
          "name": "stderr",
          "text": [
            "100%|██████████| 93/93 [00:11<00:00,  8.20it/s]\n"
          ]
        },
        {
          "output_type": "stream",
          "name": "stdout",
          "text": [
            "Train loss: 0.277309, Train dice score: 0.996211\n",
            "Validation loss: 0.291345, Validation dice score: 0.968603\n",
            "Epoch 88/100\n"
          ]
        },
        {
          "output_type": "stream",
          "name": "stderr",
          "text": [
            "100%|██████████| 93/93 [00:10<00:00,  8.58it/s]\n"
          ]
        },
        {
          "output_type": "stream",
          "name": "stdout",
          "text": [
            "Train loss: 0.277264, Train dice score: 0.996302\n",
            "Validation loss: 0.291112, Validation dice score: 0.968628\n",
            "Epoch 89/100\n"
          ]
        },
        {
          "output_type": "stream",
          "name": "stderr",
          "text": [
            "100%|██████████| 93/93 [00:10<00:00,  8.56it/s]\n"
          ]
        },
        {
          "output_type": "stream",
          "name": "stdout",
          "text": [
            "Train loss: 0.277247, Train dice score: 0.996374\n",
            "Validation loss: 0.291166, Validation dice score: 0.966584\n",
            "Epoch 90/100\n"
          ]
        },
        {
          "output_type": "stream",
          "name": "stderr",
          "text": [
            "100%|██████████| 93/93 [00:10<00:00,  8.53it/s]\n"
          ]
        },
        {
          "output_type": "stream",
          "name": "stdout",
          "text": [
            "Train loss: 0.277234, Train dice score: 0.996356\n",
            "Validation loss: 0.290760, Validation dice score: 0.970404\n",
            "Epoch 91/100\n"
          ]
        },
        {
          "output_type": "stream",
          "name": "stderr",
          "text": [
            "100%|██████████| 93/93 [00:10<00:00,  8.58it/s]\n"
          ]
        },
        {
          "output_type": "stream",
          "name": "stdout",
          "text": [
            "Train loss: 0.277188, Train dice score: 0.996419\n",
            "Validation loss: 0.290922, Validation dice score: 0.969195\n",
            "Epoch 92/100\n"
          ]
        },
        {
          "output_type": "stream",
          "name": "stderr",
          "text": [
            "100%|██████████| 93/93 [00:10<00:00,  8.53it/s]\n"
          ]
        },
        {
          "output_type": "stream",
          "name": "stdout",
          "text": [
            "Train loss: 0.277152, Train dice score: 0.996479\n",
            "Validation loss: 0.291135, Validation dice score: 0.968520\n",
            "Epoch 93/100\n"
          ]
        },
        {
          "output_type": "stream",
          "name": "stderr",
          "text": [
            "100%|██████████| 93/93 [00:10<00:00,  8.53it/s]\n"
          ]
        },
        {
          "output_type": "stream",
          "name": "stdout",
          "text": [
            "Train loss: 0.277135, Train dice score: 0.996494\n",
            "Validation loss: 0.290986, Validation dice score: 0.970030\n",
            "Epoch 94/100\n"
          ]
        },
        {
          "output_type": "stream",
          "name": "stderr",
          "text": [
            "100%|██████████| 93/93 [00:10<00:00,  8.55it/s]\n"
          ]
        },
        {
          "output_type": "stream",
          "name": "stdout",
          "text": [
            "Train loss: 0.277069, Train dice score: 0.996622\n",
            "Validation loss: 0.291034, Validation dice score: 0.968800\n",
            "Epoch 95/100\n"
          ]
        },
        {
          "output_type": "stream",
          "name": "stderr",
          "text": [
            "100%|██████████| 93/93 [00:10<00:00,  8.55it/s]\n"
          ]
        },
        {
          "output_type": "stream",
          "name": "stdout",
          "text": [
            "Train loss: 0.277083, Train dice score: 0.996558\n",
            "Validation loss: 0.291277, Validation dice score: 0.967808\n",
            "Epoch 96/100\n"
          ]
        },
        {
          "output_type": "stream",
          "name": "stderr",
          "text": [
            "100%|██████████| 93/93 [00:10<00:00,  8.58it/s]\n"
          ]
        },
        {
          "output_type": "stream",
          "name": "stdout",
          "text": [
            "Train loss: 0.277018, Train dice score: 0.996737\n",
            "Validation loss: 0.290614, Validation dice score: 0.969224\n",
            "Epoch 97/100\n"
          ]
        },
        {
          "output_type": "stream",
          "name": "stderr",
          "text": [
            "100%|██████████| 93/93 [00:10<00:00,  8.58it/s]\n"
          ]
        },
        {
          "output_type": "stream",
          "name": "stdout",
          "text": [
            "Train loss: 0.277019, Train dice score: 0.996683\n",
            "Validation loss: 0.290827, Validation dice score: 0.969169\n",
            "Epoch 98/100\n"
          ]
        },
        {
          "output_type": "stream",
          "name": "stderr",
          "text": [
            "100%|██████████| 93/93 [00:10<00:00,  8.53it/s]\n"
          ]
        },
        {
          "output_type": "stream",
          "name": "stdout",
          "text": [
            "Train loss: 0.276968, Train dice score: 0.996800\n",
            "Validation loss: 0.291182, Validation dice score: 0.965979\n",
            "Epoch 99/100\n"
          ]
        },
        {
          "output_type": "stream",
          "name": "stderr",
          "text": [
            "100%|██████████| 93/93 [00:10<00:00,  8.51it/s]\n"
          ]
        },
        {
          "output_type": "stream",
          "name": "stdout",
          "text": [
            "Train loss: 0.276968, Train dice score: 0.996751\n",
            "Validation loss: 0.290743, Validation dice score: 0.969399\n",
            "Epoch 100/100\n"
          ]
        },
        {
          "output_type": "stream",
          "name": "stderr",
          "text": [
            "100%|██████████| 93/93 [00:11<00:00,  7.89it/s]\n"
          ]
        },
        {
          "output_type": "stream",
          "name": "stdout",
          "text": [
            "Train loss: 0.276935, Train dice score: 0.996841\n",
            "Validation loss: 0.291224, Validation dice score: 0.967022\n"
          ]
        },
        {
          "output_type": "display_data",
          "data": {
            "text/plain": [
              "<Figure size 640x480 with 1 Axes>"
            ],
            "image/png": "[encoded data removed]"
          },
          "metadata": {}
        },
        {
          "output_type": "display_data",
          "data": {
            "text/plain": [
              "<Figure size 640x480 with 1 Axes>"
            ],
            "image/png": "[encoded data removed]"
          },
          "metadata": {}
        }
      ],
      "source": [
        "if __name__ == '__main__':\n",
        "    device = torch.device('cuda' if torch.cuda.is_available() else 'cpu')\n",
        "    if args.model=='unet':\n",
        "        model = smp.Unet(\n",
        "            encoder_name=\"resnet34\",\n",
        "            encoder_weights=\"imagenet\",\n",
        "            in_channels=1,\n",
        "            classes=2,\n",
        "            activation='sigmoid'\n",
        "        )\n",
        "    if args.model=='unet++':\n",
        "        model = smp.UnetPlusPlus(\n",
        "            encoder_name=\"resnet34\",\n",
        "            encoder_weights=\"imagenet\",\n",
        "            in_channels=1,\n",
        "            classes=2,\n",
        "            activation='sigmoid'\n",
        "        )\n",
        "    if args.model=='FPN':\n",
        "        model = smp.FPN(\n",
        "            encoder_name=\"resnet34\",\n",
        "            encoder_weights=\"imagenet\",\n",
        "            in_channels=1,\n",
        "            classes=2,\n",
        "            activation='sigmoid'\n",
        "        )\n",
        "    model = model.to(memory_format=torch.channels_last)\n",
        "    model.to(device=device)\n",
        "    if not os.path.exists('checkpoints'):\n",
        "        os.mkdir('checkpoints')\n",
        "    train_model(\n",
        "        model=model,\n",
        "        epochs=args.epochs,\n",
        "        batch_size=args.batch_size,\n",
        "        learning_rate=args.learning_rate,\n",
        "        device=device)"
      ]
    },
    {
      "cell_type": "code",
      "execution_count": null,
      "metadata": {
        "colab": {
          "base_uri": "https://localhost:8080/"
        },
        "id": "TmG_4l-qiwav",
        "outputId": "051ce272-49d7-4cf9-c68e-2ad957cdbfbf"
      },
      "outputs": [
        {
          "output_type": "execute_result",
          "data": {
            "text/plain": [
              "Unet(\n",
              "  (encoder): ResNetEncoder(\n",
              "    (conv1): Conv2d(1, 64, kernel_size=(7, 7), stride=(2, 2), padding=(3, 3), bias=False)\n",
              "    (bn1): BatchNorm2d(64, eps=1e-05, momentum=0.1, affine=True, track_running_stats=True)\n",
              "    (relu): ReLU(inplace=True)\n",
              "    (maxpool): MaxPool2d(kernel_size=3, stride=2, padding=1, dilation=1, ceil_mode=False)\n",
              "    (layer1): Sequential(\n",
              "      (0): BasicBlock(\n",
              "        (conv1): Conv2d(64, 64, kernel_size=(3, 3), stride=(1, 1), padding=(1, 1), bias=False)\n",
              "        (bn1): BatchNorm2d(64, eps=1e-05, momentum=0.1, affine=True, track_running_stats=True)\n",
              "        (relu): ReLU(inplace=True)\n",
              "        (conv2): Conv2d(64, 64, kernel_size=(3, 3), stride=(1, 1), padding=(1, 1), bias=False)\n",
              "        (bn2): BatchNorm2d(64, eps=1e-05, momentum=0.1, affine=True, track_running_stats=True)\n",
              "      )\n",
              "      (1): BasicBlock(\n",
              "        (conv1): Conv2d(64, 64, kernel_size=(3, 3), stride=(1, 1), padding=(1, 1), bias=False)\n",
              "        (bn1): BatchNorm2d(64, eps=1e-05, momentum=0.1, affine=True, track_running_stats=True)\n",
              "        (relu): ReLU(inplace=True)\n",
              "        (conv2): Conv2d(64, 64, kernel_size=(3, 3), stride=(1, 1), padding=(1, 1), bias=False)\n",
              "        (bn2): BatchNorm2d(64, eps=1e-05, momentum=0.1, affine=True, track_running_stats=True)\n",
              "      )\n",
              "      (2): BasicBlock(\n",
              "        (conv1): Conv2d(64, 64, kernel_size=(3, 3), stride=(1, 1), padding=(1, 1), bias=False)\n",
              "        (bn1): BatchNorm2d(64, eps=1e-05, momentum=0.1, affine=True, track_running_stats=True)\n",
              "        (relu): ReLU(inplace=True)\n",
              "        (conv2): Conv2d(64, 64, kernel_size=(3, 3), stride=(1, 1), padding=(1, 1), bias=False)\n",
              "        (bn2): BatchNorm2d(64, eps=1e-05, momentum=0.1, affine=True, track_running_stats=True)\n",
              "      )\n",
              "    )\n",
              "    (layer2): Sequential(\n",
              "      (0): BasicBlock(\n",
              "        (conv1): Conv2d(64, 128, kernel_size=(3, 3), stride=(2, 2), padding=(1, 1), bias=False)\n",
              "        (bn1): BatchNorm2d(128, eps=1e-05, momentum=0.1, affine=True, track_running_stats=True)\n",
              "        (relu): ReLU(inplace=True)\n",
              "        (conv2): Conv2d(128, 128, kernel_size=(3, 3), stride=(1, 1), padding=(1, 1), bias=False)\n",
              "        (bn2): BatchNorm2d(128, eps=1e-05, momentum=0.1, affine=True, track_running_stats=True)\n",
              "        (downsample): Sequential(\n",
              "          (0): Conv2d(64, 128, kernel_size=(1, 1), stride=(2, 2), bias=False)\n",
              "          (1): BatchNorm2d(128, eps=1e-05, momentum=0.1, affine=True, track_running_stats=True)\n",
              "        )\n",
              "      )\n",
              "      (1): BasicBlock(\n",
              "        (conv1): Conv2d(128, 128, kernel_size=(3, 3), stride=(1, 1), padding=(1, 1), bias=False)\n",
              "        (bn1): BatchNorm2d(128, eps=1e-05, momentum=0.1, affine=True, track_running_stats=True)\n",
              "        (relu): ReLU(inplace=True)\n",
              "        (conv2): Conv2d(128, 128, kernel_size=(3, 3), stride=(1, 1), padding=(1, 1), bias=False)\n",
              "        (bn2): BatchNorm2d(128, eps=1e-05, momentum=0.1, affine=True, track_running_stats=True)\n",
              "      )\n",
              "      (2): BasicBlock(\n",
              "        (conv1): Conv2d(128, 128, kernel_size=(3, 3), stride=(1, 1), padding=(1, 1), bias=False)\n",
              "        (bn1): BatchNorm2d(128, eps=1e-05, momentum=0.1, affine=True, track_running_stats=True)\n",
              "        (relu): ReLU(inplace=True)\n",
              "        (conv2): Conv2d(128, 128, kernel_size=(3, 3), stride=(1, 1), padding=(1, 1), bias=False)\n",
              "        (bn2): BatchNorm2d(128, eps=1e-05, momentum=0.1, affine=True, track_running_stats=True)\n",
              "      )\n",
              "      (3): BasicBlock(\n",
              "        (conv1): Conv2d(128, 128, kernel_size=(3, 3), stride=(1, 1), padding=(1, 1), bias=False)\n",
              "        (bn1): BatchNorm2d(128, eps=1e-05, momentum=0.1, affine=True, track_running_stats=True)\n",
              "        (relu): ReLU(inplace=True)\n",
              "        (conv2): Conv2d(128, 128, kernel_size=(3, 3), stride=(1, 1), padding=(1, 1), bias=False)\n",
              "        (bn2): BatchNorm2d(128, eps=1e-05, momentum=0.1, affine=True, track_running_stats=True)\n",
              "      )\n",
              "    )\n",
              "    (layer3): Sequential(\n",
              "      (0): BasicBlock(\n",
              "        (conv1): Conv2d(128, 256, kernel_size=(3, 3), stride=(2, 2), padding=(1, 1), bias=False)\n",
              "        (bn1): BatchNorm2d(256, eps=1e-05, momentum=0.1, affine=True, track_running_stats=True)\n",
              "        (relu): ReLU(inplace=True)\n",
              "        (conv2): Conv2d(256, 256, kernel_size=(3, 3), stride=(1, 1), padding=(1, 1), bias=False)\n",
              "        (bn2): BatchNorm2d(256, eps=1e-05, momentum=0.1, affine=True, track_running_stats=True)\n",
              "        (downsample): Sequential(\n",
              "          (0): Conv2d(128, 256, kernel_size=(1, 1), stride=(2, 2), bias=False)\n",
              "          (1): BatchNorm2d(256, eps=1e-05, momentum=0.1, affine=True, track_running_stats=True)\n",
              "        )\n",
              "      )\n",
              "      (1): BasicBlock(\n",
              "        (conv1): Conv2d(256, 256, kernel_size=(3, 3), stride=(1, 1), padding=(1, 1), bias=False)\n",
              "        (bn1): BatchNorm2d(256, eps=1e-05, momentum=0.1, affine=True, track_running_stats=True)\n",
              "        (relu): ReLU(inplace=True)\n",
              "        (conv2): Conv2d(256, 256, kernel_size=(3, 3), stride=(1, 1), padding=(1, 1), bias=False)\n",
              "        (bn2): BatchNorm2d(256, eps=1e-05, momentum=0.1, affine=True, track_running_stats=True)\n",
              "      )\n",
              "      (2): BasicBlock(\n",
              "        (conv1): Conv2d(256, 256, kernel_size=(3, 3), stride=(1, 1), padding=(1, 1), bias=False)\n",
              "        (bn1): BatchNorm2d(256, eps=1e-05, momentum=0.1, affine=True, track_running_stats=True)\n",
              "        (relu): ReLU(inplace=True)\n",
              "        (conv2): Conv2d(256, 256, kernel_size=(3, 3), stride=(1, 1), padding=(1, 1), bias=False)\n",
              "        (bn2): BatchNorm2d(256, eps=1e-05, momentum=0.1, affine=True, track_running_stats=True)\n",
              "      )\n",
              "      (3): BasicBlock(\n",
              "        (conv1): Conv2d(256, 256, kernel_size=(3, 3), stride=(1, 1), padding=(1, 1), bias=False)\n",
              "        (bn1): BatchNorm2d(256, eps=1e-05, momentum=0.1, affine=True, track_running_stats=True)\n",
              "        (relu): ReLU(inplace=True)\n",
              "        (conv2): Conv2d(256, 256, kernel_size=(3, 3), stride=(1, 1), padding=(1, 1), bias=False)\n",
              "        (bn2): BatchNorm2d(256, eps=1e-05, momentum=0.1, affine=True, track_running_stats=True)\n",
              "      )\n",
              "      (4): BasicBlock(\n",
              "        (conv1): Conv2d(256, 256, kernel_size=(3, 3), stride=(1, 1), padding=(1, 1), bias=False)\n",
              "        (bn1): BatchNorm2d(256, eps=1e-05, momentum=0.1, affine=True, track_running_stats=True)\n",
              "        (relu): ReLU(inplace=True)\n",
              "        (conv2): Conv2d(256, 256, kernel_size=(3, 3), stride=(1, 1), padding=(1, 1), bias=False)\n",
              "        (bn2): BatchNorm2d(256, eps=1e-05, momentum=0.1, affine=True, track_running_stats=True)\n",
              "      )\n",
              "      (5): BasicBlock(\n",
              "        (conv1): Conv2d(256, 256, kernel_size=(3, 3), stride=(1, 1), padding=(1, 1), bias=False)\n",
              "        (bn1): BatchNorm2d(256, eps=1e-05, momentum=0.1, affine=True, track_running_stats=True)\n",
              "        (relu): ReLU(inplace=True)\n",
              "        (conv2): Conv2d(256, 256, kernel_size=(3, 3), stride=(1, 1), padding=(1, 1), bias=False)\n",
              "        (bn2): BatchNorm2d(256, eps=1e-05, momentum=0.1, affine=True, track_running_stats=True)\n",
              "      )\n",
              "    )\n",
              "    (layer4): Sequential(\n",
              "      (0): BasicBlock(\n",
              "        (conv1): Conv2d(256, 512, kernel_size=(3, 3), stride=(2, 2), padding=(1, 1), bias=False)\n",
              "        (bn1): BatchNorm2d(512, eps=1e-05, momentum=0.1, affine=True, track_running_stats=True)\n",
              "        (relu): ReLU(inplace=True)\n",
              "        (conv2): Conv2d(512, 512, kernel_size=(3, 3), stride=(1, 1), padding=(1, 1), bias=False)\n",
              "        (bn2): BatchNorm2d(512, eps=1e-05, momentum=0.1, affine=True, track_running_stats=True)\n",
              "        (downsample): Sequential(\n",
              "          (0): Conv2d(256, 512, kernel_size=(1, 1), stride=(2, 2), bias=False)\n",
              "          (1): BatchNorm2d(512, eps=1e-05, momentum=0.1, affine=True, track_running_stats=True)\n",
              "        )\n",
              "      )\n",
              "      (1): BasicBlock(\n",
              "        (conv1): Conv2d(512, 512, kernel_size=(3, 3), stride=(1, 1), padding=(1, 1), bias=False)\n",
              "        (bn1): BatchNorm2d(512, eps=1e-05, momentum=0.1, affine=True, track_running_stats=True)\n",
              "        (relu): ReLU(inplace=True)\n",
              "        (conv2): Conv2d(512, 512, kernel_size=(3, 3), stride=(1, 1), padding=(1, 1), bias=False)\n",
              "        (bn2): BatchNorm2d(512, eps=1e-05, momentum=0.1, affine=True, track_running_stats=True)\n",
              "      )\n",
              "      (2): BasicBlock(\n",
              "        (conv1): Conv2d(512, 512, kernel_size=(3, 3), stride=(1, 1), padding=(1, 1), bias=False)\n",
              "        (bn1): BatchNorm2d(512, eps=1e-05, momentum=0.1, affine=True, track_running_stats=True)\n",
              "        (relu): ReLU(inplace=True)\n",
              "        (conv2): Conv2d(512, 512, kernel_size=(3, 3), stride=(1, 1), padding=(1, 1), bias=False)\n",
              "        (bn2): BatchNorm2d(512, eps=1e-05, momentum=0.1, affine=True, track_running_stats=True)\n",
              "      )\n",
              "    )\n",
              "  )\n",
              "  (decoder): UnetDecoder(\n",
              "    (center): Identity()\n",
              "    (blocks): ModuleList(\n",
              "      (0): DecoderBlock(\n",
              "        (conv1): Conv2dReLU(\n",
              "          (0): Conv2d(768, 256, kernel_size=(3, 3), stride=(1, 1), padding=(1, 1), bias=False)\n",
              "          (1): BatchNorm2d(256, eps=1e-05, momentum=0.1, affine=True, track_running_stats=True)\n",
              "          (2): ReLU(inplace=True)\n",
              "        )\n",
              "        (attention1): Attention(\n",
              "          (attention): Identity()\n",
              "        )\n",
              "        (conv2): Conv2dReLU(\n",
              "          (0): Conv2d(256, 256, kernel_size=(3, 3), stride=(1, 1), padding=(1, 1), bias=False)\n",
              "          (1): BatchNorm2d(256, eps=1e-05, momentum=0.1, affine=True, track_running_stats=True)\n",
              "          (2): ReLU(inplace=True)\n",
              "        )\n",
              "        (attention2): Attention(\n",
              "          (attention): Identity()\n",
              "        )\n",
              "      )\n",
              "      (1): DecoderBlock(\n",
              "        (conv1): Conv2dReLU(\n",
              "          (0): Conv2d(384, 128, kernel_size=(3, 3), stride=(1, 1), padding=(1, 1), bias=False)\n",
              "          (1): BatchNorm2d(128, eps=1e-05, momentum=0.1, affine=True, track_running_stats=True)\n",
              "          (2): ReLU(inplace=True)\n",
              "        )\n",
              "        (attention1): Attention(\n",
              "          (attention): Identity()\n",
              "        )\n",
              "        (conv2): Conv2dReLU(\n",
              "          (0): Conv2d(128, 128, kernel_size=(3, 3), stride=(1, 1), padding=(1, 1), bias=False)\n",
              "          (1): BatchNorm2d(128, eps=1e-05, momentum=0.1, affine=True, track_running_stats=True)\n",
              "          (2): ReLU(inplace=True)\n",
              "        )\n",
              "        (attention2): Attention(\n",
              "          (attention): Identity()\n",
              "        )\n",
              "      )\n",
              "      (2): DecoderBlock(\n",
              "        (conv1): Conv2dReLU(\n",
              "          (0): Conv2d(192, 64, kernel_size=(3, 3), stride=(1, 1), padding=(1, 1), bias=False)\n",
              "          (1): BatchNorm2d(64, eps=1e-05, momentum=0.1, affine=True, track_running_stats=True)\n",
              "          (2): ReLU(inplace=True)\n",
              "        )\n",
              "        (attention1): Attention(\n",
              "          (attention): Identity()\n",
              "        )\n",
              "        (conv2): Conv2dReLU(\n",
              "          (0): Conv2d(64, 64, kernel_size=(3, 3), stride=(1, 1), padding=(1, 1), bias=False)\n",
              "          (1): BatchNorm2d(64, eps=1e-05, momentum=0.1, affine=True, track_running_stats=True)\n",
              "          (2): ReLU(inplace=True)\n",
              "        )\n",
              "        (attention2): Attention(\n",
              "          (attention): Identity()\n",
              "        )\n",
              "      )\n",
              "      (3): DecoderBlock(\n",
              "        (conv1): Conv2dReLU(\n",
              "          (0): Conv2d(128, 32, kernel_size=(3, 3), stride=(1, 1), padding=(1, 1), bias=False)\n",
              "          (1): BatchNorm2d(32, eps=1e-05, momentum=0.1, affine=True, track_running_stats=True)\n",
              "          (2): ReLU(inplace=True)\n",
              "        )\n",
              "        (attention1): Attention(\n",
              "          (attention): Identity()\n",
              "        )\n",
              "        (conv2): Conv2dReLU(\n",
              "          (0): Conv2d(32, 32, kernel_size=(3, 3), stride=(1, 1), padding=(1, 1), bias=False)\n",
              "          (1): BatchNorm2d(32, eps=1e-05, momentum=0.1, affine=True, track_running_stats=True)\n",
              "          (2): ReLU(inplace=True)\n",
              "        )\n",
              "        (attention2): Attention(\n",
              "          (attention): Identity()\n",
              "        )\n",
              "      )\n",
              "      (4): DecoderBlock(\n",
              "        (conv1): Conv2dReLU(\n",
              "          (0): Conv2d(32, 16, kernel_size=(3, 3), stride=(1, 1), padding=(1, 1), bias=False)\n",
              "          (1): BatchNorm2d(16, eps=1e-05, momentum=0.1, affine=True, track_running_stats=True)\n",
              "          (2): ReLU(inplace=True)\n",
              "        )\n",
              "        (attention1): Attention(\n",
              "          (attention): Identity()\n",
              "        )\n",
              "        (conv2): Conv2dReLU(\n",
              "          (0): Conv2d(16, 16, kernel_size=(3, 3), stride=(1, 1), padding=(1, 1), bias=False)\n",
              "          (1): BatchNorm2d(16, eps=1e-05, momentum=0.1, affine=True, track_running_stats=True)\n",
              "          (2): ReLU(inplace=True)\n",
              "        )\n",
              "        (attention2): Attention(\n",
              "          (attention): Identity()\n",
              "        )\n",
              "      )\n",
              "    )\n",
              "  )\n",
              "  (segmentation_head): SegmentationHead(\n",
              "    (0): Conv2d(16, 2, kernel_size=(3, 3), stride=(1, 1), padding=(1, 1))\n",
              "    (1): Identity()\n",
              "    (2): Activation(\n",
              "      (activation): Sigmoid()\n",
              "    )\n",
              "  )\n",
              ")"
            ]
          },
          "metadata": {},
          "execution_count": 13
        }
      ],
      "source": [
        "import cv2\n",
        "import torch\n",
        "import matplotlib.pyplot as plt\n",
        "import segmentation_models_pytorch as smp\n",
        "\n",
        "# Load the trained model\n",
        "device = torch.device('cuda' if torch.cuda.is_available() else 'cpu')\n",
        "model = smp.Unet(\n",
        "    encoder_name=\"resnet34\",\n",
        "    encoder_weights=\"imagenet\",\n",
        "    in_channels=1,\n",
        "    classes=2,\n",
        "    activation='sigmoid'\n",
        ")\n",
        "model.load_state_dict(torch.load('checkpoints/unet_model_best.pth', map_location=device))\n",
        "model.to(device=device)\n",
        "model.eval()"
      ]
    },
    {
      "cell_type": "code",
      "execution_count": null,
      "metadata": {
        "id": "hP2EA-ntiwZI"
      },
      "outputs": [],
      "source": [
        "def predict(image_path):\n",
        "    img = cv2.imread(image_path, cv2.IMREAD_GRAYSCALE)\n",
        "    print(f\"Original image shape: {img.shape}\")  # print the shape of the original image\n",
        "    img = cv2.resize(img, (928, 416))\n",
        "    img = img.astype(np.float32) / 255.0\n",
        "    img_tensor = torch.from_numpy(img).unsqueeze(0).unsqueeze(0).to(device)\n",
        "    with torch.no_grad():\n",
        "        prediction = model(img_tensor)\n",
        "    mask = prediction.squeeze().cpu().numpy()\n",
        "    mask = mask / mask.max() # normalize the mask here\n",
        "    print(f\"Mask shape before resize: {mask.shape}\")  # print the shape of the mask before resize\n",
        "    mask = cv2.resize(mask[0, :, :], (img.shape[1], img.shape[0]))  # resize the mask to the original image size\n",
        "    return mask"
      ]
    },
    {
      "cell_type": "code",
      "execution_count": null,
      "metadata": {
        "colab": {
          "base_uri": "https://localhost:8080/"
        },
        "id": "FyK-w8rjiwXA",
        "outputId": "aac34a98-0b56-4d52-841e-b4e57365c9eb"
      },
      "outputs": [
        {
          "output_type": "stream",
          "name": "stdout",
          "text": [
            "Original image shape: (1100, 2800)\n",
            "Mask shape before resize: (2, 416, 928)\n"
          ]
        }
      ],
      "source": [
        "# Perform prediction on an image\n",
        "image_path = '/content/Images/106.png'\n",
        "mask = predict(image_path)"
      ]
    },
    {
      "cell_type": "code",
      "execution_count": null,
      "metadata": {
        "colab": {
          "base_uri": "https://localhost:8080/",
          "height": 240
        },
        "id": "SOULJVpEiwUp",
        "outputId": "401cb726-6250-441c-9065-a209dfa8c8be"
      },
      "outputs": [
        {
          "output_type": "display_data",
          "data": {
            "text/plain": [
              "<Figure size 1000x500 with 2 Axes>"
            ],
            "image/png": "[encoded data removed]"
          },
          "metadata": {}
        }
      ],
      "source": [
        "# Display the original image and predicted mask\n",
        "plt.figure(figsize=(10,5))\n",
        "plt.subplot(1,2,1)\n",
        "plt.imshow(cv2.imread(image_path, cv2.IMREAD_GRAYSCALE), cmap='gray')\n",
        "plt.title('Original Image')\n",
        "plt.subplot(1,2,2)\n",
        "plt.imshow(mask, cmap='jet')  # Ubah 'gray' menjadi 'jet'\n",
        "plt.title('Predicted Mask')\n",
        "plt.show()"
      ]
    },
    {
      "cell_type": "code",
      "execution_count": null,
      "metadata": {
        "colab": {
          "base_uri": "https://localhost:8080/"
        },
        "id": "zdSIPrfliwSS",
        "outputId": "954a199d-fbfa-411e-c127-29ee318b209a"
      },
      "outputs": [
        {
          "output_type": "stream",
          "name": "stdout",
          "text": [
            "Original image shape: (1200, 2940)\n",
            "Mask shape before resize: (2, 416, 928)\n"
          ]
        }
      ],
      "source": [
        "# Perform prediction on an image\n",
        "image_path = '/content/Images/13.png'  # replace with your image path\n",
        "mask = predict(image_path)"
      ]
    },
    {
      "cell_type": "code",
      "execution_count": null,
      "metadata": {
        "colab": {
          "base_uri": "https://localhost:8080/",
          "height": 240
        },
        "id": "fNGFrAQLrw5Y",
        "outputId": "c66b3ffc-759c-4dac-9be9-c7e0d1fd083e"
      },
      "outputs": [
        {
          "output_type": "display_data",
          "data": {
            "text/plain": [
              "<Figure size 1000x500 with 2 Axes>"
            ],
            "image/png": "[encoded data removed]"
          },
          "metadata": {}
        }
      ],
      "source": [
        "# Display the original image and predicted mask\n",
        "plt.figure(figsize=(10,5))\n",
        "plt.subplot(1,2,1)\n",
        "plt.imshow(cv2.imread(image_path, cv2.IMREAD_GRAYSCALE), cmap='gray')\n",
        "plt.title('Original Image')\n",
        "plt.subplot(1,2,2)\n",
        "plt.imshow(mask, cmap='gray')\n",
        "plt.title('Predicted Mask')\n",
        "plt.show()"
      ]
    },
    {
      "cell_type": "markdown",
      "source": [
        "# tambahan\n"
      ],
      "metadata": {
        "id": "7oqp1rk6lgRF"
      }
    },
    {
      "cell_type": "code",
      "source": [],
      "metadata": {
        "id": "6az95Fbvwois"
      },
      "execution_count": null,
      "outputs": []
    }
  ],
  "metadata": {
    "accelerator": "GPU",
    "colab": {
      "provenance": [],
      "gpuType": "T4",
      "authorship_tag": "ABX9TyOVxDqwnE9+s98DqAkeswiz",
      "include_colab_link": true
    },
    "kernelspec": {
      "display_name": "Python 3",
      "name": "python3"
    },
    "language_info": {
      "name": "python"
    }
  },
  "nbformat": 4,
  "nbformat_minor": 0
}